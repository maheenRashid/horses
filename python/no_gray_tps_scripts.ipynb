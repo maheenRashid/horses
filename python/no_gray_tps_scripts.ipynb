{
 "cells": [
  {
   "cell_type": "code",
   "execution_count": 1,
   "metadata": {
    "collapsed": false
   },
   "outputs": [
    {
     "name": "stdout",
     "output_type": "stream",
     "text": [
      "[False  True]\n",
      "http://vision1.idav.ucdavis.edu:1000/temp/check.png\n"
     ]
    }
   ],
   "source": [
    "import os;\n",
    "import numpy as np;\n",
    "import scipy.misc;\n",
    "\n",
    "dir_server='/home/SSD3/maheen-data';\n",
    "click_str='http://vision1.idav.ucdavis.edu:1000'\n",
    "dir_im=os.path.join(dir_server,\\\n",
    "                        'horse_project/ft_horse_allKp_full_big_clean_fullBack_25_1e-2_100_100_evaluateFix/debug_bilinear/debug');\n",
    "im_1='1_6_org.jpg';\n",
    "im_2='1_9_org.jpg';\n",
    "\n",
    "im_1=scipy.misc.imread(os.path.join(dir_im,im_1));\n",
    "# im_2=scipy.misc.imread(os.path.join(dir_im,im_2));\n",
    "arr=[121,117,105];\n",
    "org_img='/home/SSD3/maheen-data/horse_project/data_check/horse/im/imagenet_n02374451/n02374451_12642.jpg'\n",
    "im_org=scipy.misc.imread(org_img);\n",
    "bin_all=np.ones((im_org.shape[0],im_org.shape[1]))>0;\n",
    "\n",
    "bin_all=scipy.misc.imread(os.path.join(dir_im,'1_check_1.png'));\n",
    "bin_all=bin_all==0;\n",
    "print np.unique(bin_all)\n",
    "# for dim in range(3):\n",
    "#     bin_curr=im_1[:,:,dim];\n",
    "#     bin_curr=bin_curr==arr[dim];\n",
    "# #     bin_curr[15:-15,15:-15]=False;\n",
    "#     bin_all=np.logical_and(bin_all,bin_curr);\n",
    "    \n",
    "    \n",
    "im_1[bin_all]=im_org[bin_all];\n",
    "    \n",
    "out_file=os.path.join(dir_server,'temp/check.png');\n",
    "scipy.misc.imsave(out_file,im_1);\n",
    "print out_file.replace(dir_server,click_str);\n",
    "\n",
    "# org_img='/home/SSD3/maheen-data/horse_project/data_check/horse/im/google_horse_face/horse+face285.jpg'\n",
    "# im_org=scipy.misc.imread(org_img);\n",
    "# im_org[15:-15,15:-15]=1;\n",
    "# out_file=os.path.join(dir_server,'temp/check_org.png');\n",
    "# scipy.misc.imsave(out_file,im_org);\n",
    "# print out_file.replace(dir_server,click_str);\n",
    "# im_1[:,15,:]==0\n",
    "\n",
    "\n",
    "\n",
    "# print np.where(im_1[0,:,0]==121)\n",
    "# print np.where(im_1[0,:,1]==117)\n",
    "# print np.where(im_1[0,:,2]==105);\n",
    "\n",
    "# # print im_1[:,1,0]\n",
    "# print np.where(im_1[:,0,0]==121)\n",
    "# print np.where(im_1[:,0,1]==117)\n",
    "# print np.where(im_1[:,0,2]==105);\n",
    "\n",
    "# im_1=im_2;\n",
    "# print np.where(im_1[0,:,0]==121)\n",
    "# print np.where(im_1[0,:,1]==117)\n",
    "# print np.where(im_1[0,:,2]==105);\n",
    "\n",
    "# # print im_1[:,1,0]\n",
    "# print np.where(im_1[:,0,0]==121)\n",
    "# print np.where(im_1[:,0,1]==117)\n",
    "# print np.where(im_1[:,0,2]==105);\n"
   ]
  },
  {
   "cell_type": "code",
   "execution_count": 5,
   "metadata": {
    "collapsed": false
   },
   "outputs": [
    {
     "name": "stdout",
     "output_type": "stream",
     "text": [
      "/home/SSD3/maheen-data/horse_project/data_check/horse/matches_5_val_allKP_minLoss_clean_padded.txt\n",
      "/home/SSD3/maheen-data/horse_project/data_check/aflw/matches_5_val_allKP_minLoss_noIm_clean_padded.txt\n",
      "/home/SSD3/maheen-data/horse_project/data_check/horse/matches_5_train_allKP_minLoss_clean_full_padded.txt\n",
      "/home/SSD3/maheen-data/horse_project/data_check/aflw/matches_5_train_allKP_minLoss_noIm_clean_full_padded.txt\n",
      "/home/SSD3/maheen-data/horse_project/data_check/horse/matches_5_train_allKP_minLoss_clean_padded.txt\n",
      "/home/SSD3/maheen-data/horse_project/data_check/aflw/matches_5_train_allKP_minLoss_noIm_clean_padded.txt\n"
     ]
    }
   ],
   "source": [
    "import os;\n",
    "import util;\n",
    "\n",
    "dir_files='/home/SSD3/maheen-data/horse_project/data_check';\n",
    "files_to_modify=['/home/SSD3/maheen-data/horse_project/data_check/horse/matches_5_val_allKP_minLoss_clean.txt',\n",
    "'/home/SSD3/maheen-data/horse_project/data_check/aflw/matches_5_val_allKP_minLoss_noIm_clean.txt',\n",
    "'/home/SSD3/maheen-data/horse_project/data_check/horse/matches_5_train_allKP_minLoss_clean_full.txt',\n",
    "'/home/SSD3/maheen-data/horse_project/data_check/aflw/matches_5_train_allKP_minLoss_noIm_clean_full.txt',\n",
    "'/home/SSD3/maheen-data/horse_project/data_check/horse/matches_5_train_allKP_minLoss_clean.txt',\n",
    "'/home/SSD3/maheen-data/horse_project/data_check/aflw/matches_5_train_allKP_minLoss_noIm_clean.txt'];\n",
    "\n",
    "to_replace=['/data_check/horse/','/data_padded/horse/'];\n",
    "\n",
    "for file_curr in files_to_modify:\n",
    "    data_curr=util.readLinesFromFile(file_curr);\n",
    "    data_new_curr=[line_curr.replace(to_replace[0],to_replace[1]) for line_curr in data_curr];\n",
    "    \n",
    "    [dir_curr,out_file_new]=os.path.split(file_curr);\n",
    "    \n",
    "    out_file_new=out_file_new[:out_file_new.rindex('.')];\n",
    "    out_file_new=out_file_new+'_padded.txt';\n",
    "\n",
    "    out_file_new=os.path.join(dir_curr,out_file_new);\n",
    "    print out_file_new;\n",
    "    util.writeFile(out_file_new,data_new_curr);\n",
    "    \n"
   ]
  },
  {
   "cell_type": "code",
   "execution_count": 21,
   "metadata": {
    "collapsed": false
   },
   "outputs": [
    {
     "name": "stdout",
     "output_type": "stream",
     "text": [
      "(64, 224, 224, 2)\n",
      "(64, 224, 224, 2)\n",
      "['../../../../../..//debug/debug/1_1.jpg', '../../../../../../..//debug/debug/tps_grad_0/0.png', '../../../../../../..//debug/debug/tps_grad_1/0.png']\n",
      "http://vision1.idav.ucdavis.edu:1000/debug/debug/viz.html\n"
     ]
    }
   ],
   "source": [
    "import os;\n",
    "import numpy as np;\n",
    "import scipy.misc;\n",
    "import visualize;\n",
    "import util;\n",
    "\n",
    "data_dir='/home/SSD3/maheen-data/debug/debug';\n",
    "file_pres=['tps_grad_'+str(num) for num in range(2)];\n",
    "dirs=[os.path.join(data_dir,file_curr) for file_curr in file_pres]\n",
    "files=[os.path.join(data_dir,file_curr+'.npy') for file_curr in file_pres];\n",
    "dir_server='/home/SSD3/maheen-data';\n",
    "click_str='http://vision1.idav.ucdavis.edu:1000';\n",
    "\n",
    "a=np.load(files[0]);\n",
    "b=np.load(files[1]);\n",
    "# assert np.array_equal(a,b);\n",
    "for out_dir_curr,file_curr in zip(dirs,files):\n",
    "    util.mkdir(out_dir_curr);\n",
    "    grads=np.load(file_curr);\n",
    "    print grads.shape;\n",
    "    for im_num in range(grads.shape[0]):\n",
    "#         strs=['x','y'];\n",
    "#         for dim_num in range(grads.shape[3]):\n",
    "        out_file_curr=os.path.join(out_dir_curr,str(im_num)+'.png');\n",
    "        im_curr=grads[im_num,:,:,:];\n",
    "        im_curr=np.sum(np.power(im_curr,2),2);\n",
    "        visualize.saveMatAsImage(im_curr,out_file_curr)  \n",
    "#             im_curr=(im_curr-np.min(im_curr))/np.max(im_curr)\n",
    "#             im_curr=im_curr*255;\n",
    "#             im_curr=im_curr.astype(np.uint8);\n",
    "#             scipy.misc.imsave(out_file_curr,im_curr);\n",
    "\n",
    "im_files=[];\n",
    "captions=[];\n",
    "out_file_html=os.path.join(data_dir,'viz.html');\n",
    "\n",
    "for im_num in range(64):\n",
    "    im_row=[];\n",
    "    caption_row=[];\n",
    "    org_im_path=os.path.join(data_dir,'1_'+str(im_num+1)+'.jpg');\n",
    "    im_row.append(util.getRelPath(org_im_path,dir_server));\n",
    "    caption_row.append(os.path.split(org_im_path)[1])\n",
    "    for out_dir_curr in dirs:\n",
    "        file_curr=os.path.join(out_dir_curr,str(im_num)+'.png')\n",
    "#         for dim_num in range(2):\n",
    "#             file_curr=os.path.join(out_dir_curr,str(im_num)+'_'+str(dim_num)+'.png')\n",
    "        im_row.append(util.getRelPath(file_curr,dir_server));\n",
    "        caption_row.append(os.path.split(out_dir_curr)[1]+' '+os.path.split(file_curr)[1]);\n",
    "    im_files.append(im_row);\n",
    "    captions.append(caption_row)\n",
    "\n",
    "print im_files[0]\n",
    "\n",
    "visualize.writeHTML(out_file_html,im_files,captions,500,500);\n",
    "print out_file_html.replace(dir_server,click_str)"
   ]
  },
  {
   "cell_type": "code",
   "execution_count": null,
   "metadata": {
    "collapsed": true
   },
   "outputs": [],
   "source": []
  }
 ],
 "metadata": {
  "kernelspec": {
   "display_name": "Python 2",
   "language": "python",
   "name": "python2"
  },
  "language_info": {
   "codemirror_mode": {
    "name": "ipython",
    "version": 2
   },
   "file_extension": ".py",
   "mimetype": "text/x-python",
   "name": "python",
   "nbconvert_exporter": "python",
   "pygments_lexer": "ipython2",
   "version": "2.7.6"
  }
 },
 "nbformat": 4,
 "nbformat_minor": 0
}

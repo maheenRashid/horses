{
 "cells": [
  {
   "cell_type": "code",
   "execution_count": 39,
   "metadata": {
    "collapsed": false
   },
   "outputs": [],
   "source": [
    "import numpy as np;\n",
    "import os;\n",
    "import util;\n",
    "import visualize;\n",
    "import random;\n",
    "\n",
    "def comparativeLossViz(img_dirs,file_post,loss_post,range_batches,range_images,out_file_html,dir_server,img_caption_pre=None):\n",
    "    img_files_all=[];\n",
    "    captions_all=[];\n",
    "    if img_caption_pre is not None:\n",
    "        assert len(img_caption_pre)==len(img_dirs);\n",
    "    batch_str=True;\n",
    "    if range_batches is None:\n",
    "        range_batches=range(1);\n",
    "        batch_str=False;\n",
    "    \n",
    "    for batch_num in range_batches:\n",
    "    # range(1,num_batches+1):\n",
    "        for im_num in range_images:\n",
    "            for idx_img_dir,img_dir in enumerate(img_dirs):\n",
    "                files_curr_list=[];\n",
    "                captions_curr_list=[];\n",
    "            \n",
    "                if loss_post is None:\n",
    "                    loss_str='';\n",
    "                else:\n",
    "                    loss_all=np.load(os.path.join(img_dir,str(batch_num)+loss_post));\n",
    "                    if im_num>loss_all.shape[0]:\n",
    "                        continue;\n",
    "                    loss_curr=loss_all[im_num-1,0];\n",
    "                    loss_str=\"{:10.4f}\".format(loss_curr);\n",
    "                if not batch_str:\n",
    "                    files_curr=[os.path.join(img_dir,str(im_num)+file_post_curr) for file_post_curr in file_post];\n",
    "                else:\n",
    "                    files_curr=[os.path.join(img_dir,str(batch_num)+'_'+str(im_num)+file_post_curr) for file_post_curr in file_post];\n",
    "                files_curr=[util.getRelPath(file_curr,dir_server) for file_curr in files_curr];\n",
    "                captions_curr=[os.path.split(file_curr)[1]+' '+loss_str for file_curr in files_curr];\n",
    "                if img_caption_pre is not None:\n",
    "                    captions_curr=[img_caption_pre[idx_img_dir]+' '+caption_curr for caption_curr in captions_curr];\n",
    "                files_curr_list.extend(files_curr);\n",
    "                captions_curr_list.extend(captions_curr);\n",
    "                \n",
    "                img_files_all.append(files_curr_list);\n",
    "                captions_all.append(captions_curr_list);\n",
    "            \n",
    "    visualize.writeHTML(out_file_html,img_files_all,captions_all,224,224);\n",
    "    \n",
    "\n",
    "def parseLogFile(log_file,gt_loss=False):\n",
    "    log_data=util.readLinesFromFile(log_file);\n",
    "    final_loss_str='minibatches processed: all'\n",
    "    final_loss=[line_curr for line_curr in log_data if final_loss_str in line_curr];\n",
    "    assert len(final_loss)==1;\n",
    "    final_loss=final_loss[0].split(' ');\n",
    "    final_loss=final_loss[-1].strip('\"');\n",
    "    gt_str='gt val loss'\n",
    "\n",
    "    if gt_loss:\n",
    "        gt_losses=[line_curr for line_curr in log_data if gt_str in line_curr];\n",
    "        gt_losses=[line_curr.split(' ')[-1].strip('\"') for line_curr in gt_losses];\n",
    "        gt_losses=' '.join(gt_losses);\n",
    "    \n",
    "    if gt_loss:\n",
    "        return final_loss,gt_losses\n",
    "    else:\n",
    "        return final_loss;\n",
    "\n",
    "\n",
    "def getCommandTestTrainImages(path_to_th,\n",
    "                              outDir,\n",
    "                              num_ctrl_pts,\n",
    "                              val_horse_data_path,\n",
    "                              val_human_data_path,\n",
    "                             out_dir_images):\n",
    "    command=['th',path_to_th];\n",
    "    command.extend(['-outDir',outDir]);\n",
    "    command.extend(['-model',os.path.join(outDir,'final','model_all_final.dat')])\n",
    "    command.extend(['-num_ctrl_pts',str(num_ctrl_pts)]);\n",
    "    command.extend(['-out_dir_images',out_dir_images]);\n",
    "    command.extend(['-val_horse_data_path',val_horse_data_path]);\n",
    "    command.extend(['-val_human_data_path',val_human_data_path]);\n",
    "    command=' '.join(command);\n",
    "    return command;\n",
    " \n",
    "\n",
    "\n",
    "\n",
    "    "
   ]
  },
  {
   "cell_type": "code",
   "execution_count": 31,
   "metadata": {
    "collapsed": false
   },
   "outputs": [
    {
     "name": "stdout",
     "output_type": "stream",
     "text": [
      "/home/SSD3/maheen-data/horse_project/tps_bn_clean_var_lr_25_small_declr/test_on_train.sh\n"
     ]
    }
   ],
   "source": [
    "\n",
    "dirs_meta=['/home/SSD3/maheen-data/horse_project/tps_bn_clean_var_lr_25_small_declr',\n",
    "           '/home/SSD3/maheen-data/horse_project/tps_bn_clean_var_lr_25_small_declr/epoch_4',\n",
    "            '/home/SSD3/maheen-data/horse_project/tps_bn_clean_var_lr_36_small_declr',\n",
    "            '/home/SSD3/maheen-data/horse_project/tps_bn_clean_var_lr_64_small_declr',\n",
    "            '/home/SSD3/maheen-data/horse_project/tps_bn_clean_var_lr_64_declr/quick_decrease',\n",
    "              '/home/SSD3/maheen-data/horse_project/tps_bn_clean_var_lr_64',\n",
    "          '/home/SSD3/maheen-data/temp/tps_train_allKP_adam_noBad_bn'];\n",
    "num_ctrl_pts=[25,25,36,64,64,64,36];\n",
    "path_to_th='/home/maheenrashid/Downloads/horses/torch/train_tps_var_lr.th'\n",
    "out_dir_images='train_images';\n",
    "path_common='/home/SSD3/maheen-data/horse_project/data_check'\n",
    "\n",
    "# val_horse_data_path=os.path.join(path_common,'horse/matches_5_val_allKP_minLoss_clean.txt');\n",
    "# val_human_data_path=os.path.join(path_common,'aflw/matches_5_val_allKP_minLoss_noIm_clean.txt');\n",
    "\n",
    "val_horse_data_path=os.path.join(path_common,'horse','matches_5_train_allKP_minLoss_clean_subset.txt')\n",
    "val_human_data_path=os.path.join(path_common,'aflw','matches_5_train_allKP_minLoss_noIm_clean_subset.txt')\n",
    "\n",
    "commands=[];\n",
    "out_file_commands=os.path.join(dirs_meta[0],'test_on_train.sh');\n",
    "for num_ctrl_pts,outDir in zip(num_ctrl_pts,dirs_meta):\n",
    "    commands.append(getCommandTestTrainImages(path_to_th,outDir,num_ctrl_pts,\\\n",
    "                                              val_horse_data_path,val_human_data_path,out_dir_images));\n",
    "print out_file_commands\n",
    "util.writeFile(out_file_commands,commands);\n",
    "\n",
    "\n",
    "    \n"
   ]
  },
  {
   "cell_type": "code",
   "execution_count": 21,
   "metadata": {
    "collapsed": false
   },
   "outputs": [
    {
     "name": "stdout",
     "output_type": "stream",
     "text": [
      "3531 193\n",
      "/home/SSD3/maheen-data/horse_project/data_check/horse/matches_5_train_allKP_minLoss_clean_subset.txt\n",
      "3531 193\n",
      "/home/SSD3/maheen-data/horse_project/data_check/aflw/matches_5_train_allKP_minLoss_clean_subset.txt\n",
      "3531 193\n",
      "/home/SSD3/maheen-data/horse_project/data_check/aflw/matches_5_train_allKP_minLoss_noIm_clean_subset.txt\n"
     ]
    }
   ],
   "source": [
    "\n",
    "\n",
    "horse_data_path=os.path.join(path_common,'horse','matches_5_train_allKP_minLoss_clean.txt')\n",
    "human_data_path=os.path.join(path_common,'aflw','matches_5_train_allKP_minLoss_clean.txt')\n",
    "human_data_path_noIm=os.path.join(path_common,'aflw','matches_5_train_allKP_minLoss_noIm_clean.txt')\n",
    "\n",
    "files=[horse_data_path,human_data_path,human_data_path_noIm];\n",
    "out_files=[file_curr[:file_curr.rindex('.')]+'_subset.txt' for file_curr in files];\n",
    "\n",
    "data_horse=util.readLinesFromFile(horse_data_path);\n",
    "idx=range(len(data_horse));\n",
    "random.shuffle(idx);\n",
    "to_select=193;\n",
    "idx=idx[:to_select];\n",
    "\n",
    "\n",
    "for in_file,out_file in zip(files,out_files):\n",
    "    data_curr=util.readLinesFromFile(in_file);\n",
    "    data_out=[data_curr[idx_curr] for idx_curr in idx]\n",
    "    print len(data_curr),len(data_out);\n",
    "    print out_file\n",
    "    util.writeFile(out_file,data_out);\n",
    "\n",
    "\n"
   ]
  },
  {
   "cell_type": "code",
   "execution_count": 33,
   "metadata": {
    "collapsed": false
   },
   "outputs": [
    {
     "name": "stdout",
     "output_type": "stream",
     "text": [
      "http://vision1.idav.ucdavis.edu:1000/horse_project/tps_bn_clean_var_lr_25_small_declr/comparativeLosses.html\n"
     ]
    }
   ],
   "source": [
    "dirs_meta=['/home/SSD3/maheen-data/horse_project/tps_bn_clean_var_lr_25_small_declr',\n",
    "              '/home/SSD3/maheen-data/horse_project/tps_bn_clean_var_lr_25_small_declr/epoch_4',\n",
    "            '/home/SSD3/maheen-data/horse_project/tps_bn_clean_var_lr_36_small_declr',\n",
    "            '/home/SSD3/maheen-data/horse_project/tps_bn_clean_var_lr_64_small_declr',\n",
    "            '/home/SSD3/maheen-data/horse_project/tps_bn_clean_var_lr_64_declr/quick_decrease',\n",
    "              '/home/SSD3/maheen-data/horse_project/tps_bn_clean_var_lr_64',\n",
    "          '/home/SSD3/maheen-data/temp/tps_train_allKP_adam_noBad_bn'];\n",
    "\n",
    "dirs_strs=['25 small dec','25 small dec diff','36 small dec','64 small dec','64 big dec','64 big nodec','orig 36 small nodec']\n",
    "\n",
    "test_dirs=[os.path.join(dir_curr,'test_images') for dir_curr in dirs_meta];\n",
    "log_files=[os.path.join(dir_curr,'log_test.txt') for dir_curr in test_dirs];\n",
    "loss_ims=[os.path.join(dir_curr,'intermediate','loss_all.png') for dir_curr in dirs_meta];\n",
    "\n",
    "losses=[parseLogFile(file_curr,True) for file_curr in log_files];\n",
    "# for loss_curr,dir_curr in zip(losses,dirs_meta):\n",
    "#     print loss_curr,dirs_meta;\n",
    "    \n",
    "\n",
    "out_file_html=os.path.join(dirs_meta[0],'comparativeLosses.html');\n",
    "dir_server='/home/SSD3/maheen-data';\n",
    "click_str='http://vision1.idav.ucdavis.edu:1000'\n",
    "imgs=[];\n",
    "captions=[];\n",
    "for idx,file_curr in enumerate(loss_ims):\n",
    "    caption_curr=dirs_strs[idx]+' '+losses[idx][0];\n",
    "    captions.append([caption_curr]);\n",
    "    imgs.append([util.getRelPath(file_curr,dir_server)]);\n",
    "\n",
    "visualize.writeHTML(out_file_html,imgs,captions);\n",
    "print out_file_html.replace(dir_server,click_str)\n"
   ]
  },
  {
   "cell_type": "code",
   "execution_count": 41,
   "metadata": {
    "collapsed": false
   },
   "outputs": [
    {
     "name": "stdout",
     "output_type": "stream",
     "text": [
      "http://vision1.idav.ucdavis.edu:1000/horse_project/tps_bn_clean_var_lr_25_small_declr/comparison_viz.html\n"
     ]
    }
   ],
   "source": [
    "dirs_meta=['/home/SSD3/maheen-data/horse_project/tps_bn_clean_var_lr_25_small_declr',\n",
    "           '/home/SSD3/maheen-data/horse_project/tps_bn_clean_var_lr_36_small_declr',\n",
    "          '/home/SSD3/maheen-data/temp/tps_train_allKP_adam_noBad_bn'];\n",
    "img_dirs=[os.path.join(dir_curr,'test_images') for dir_curr in dirs_meta];\n",
    "file_post=['_horse.jpg','_gtwarp.jpg','_predwarp.jpg',];\n",
    "img_caption_pre=['25 small dec','36 small dec','orig 36 small nodec']\n",
    "range_batches=[1,2];\n",
    "range_images=range(1,101);\n",
    "dir_server='/home/SSD3/maheen-data';\n",
    "click_str='http://vision1.idav.ucdavis.edu:1000';\n",
    "out_file_html=os.path.join(dirs_meta[0],'comparison_viz.html');\n",
    "loss_post=None;\n",
    "comparativeLossViz(img_dirs,file_post,loss_post,range_batches,range_images,\n",
    "                   out_file_html,dir_server,img_caption_pre)\n",
    "print out_file_html.replace(dir_server,click_str);\n",
    "\n"
   ]
  }
 ],
 "metadata": {
  "kernelspec": {
   "display_name": "Python 2",
   "language": "python",
   "name": "python2"
  },
  "language_info": {
   "codemirror_mode": {
    "name": "ipython",
    "version": 2
   },
   "file_extension": ".py",
   "mimetype": "text/x-python",
   "name": "python",
   "nbconvert_exporter": "python",
   "pygments_lexer": "ipython2",
   "version": "2.7.6"
  }
 },
 "nbformat": 4,
 "nbformat_minor": 0
}

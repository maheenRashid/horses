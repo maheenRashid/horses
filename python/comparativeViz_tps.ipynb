{
 "cells": [
  {
   "cell_type": "code",
   "execution_count": 7,
   "metadata": {
    "collapsed": false
   },
   "outputs": [],
   "source": [
    "import numpy as np;\n",
    "import os;\n",
    "import util;\n",
    "import visualize;\n",
    "import random;\n",
    "\n",
    "def comparativeLossViz(img_dirs,file_post,loss_post,range_batches,range_images,out_file_html,dir_server,img_caption_pre=None):\n",
    "    img_files_all=[];\n",
    "    captions_all=[];\n",
    "    if img_caption_pre is not None:\n",
    "        assert len(img_caption_pre)==len(img_dirs);\n",
    "    batch_str=True;\n",
    "    if range_batches is None:\n",
    "        range_batches=range(1);\n",
    "        batch_str=False;\n",
    "    \n",
    "    for batch_num in range_batches:\n",
    "    # range(1,num_batches+1):\n",
    "        for im_num in range_images:\n",
    "            \n",
    "            for idx_img_dir,img_dir in enumerate(img_dirs):\n",
    "                files_curr_list=[];\n",
    "                captions_curr_list=[];\n",
    "\n",
    "                if loss_post is None:\n",
    "                    loss_str='';\n",
    "                else:\n",
    "                    loss_all=np.load(os.path.join(img_dir,str(batch_num)+loss_post));\n",
    "                    if im_num>loss_all.shape[0]:\n",
    "                        continue;\n",
    "                    loss_curr=loss_all[im_num-1,0];\n",
    "                    loss_str=\"{:10.4f}\".format(loss_curr);\n",
    "                if not batch_str:\n",
    "                    files_curr=[os.path.join(img_dir,str(im_num)+file_post_curr) for file_post_curr in file_post];\n",
    "                else:\n",
    "                    files_curr=[os.path.join(img_dir,str(batch_num)+'_'+str(im_num)+file_post_curr) for file_post_curr in file_post];\n",
    "                files_curr=[util.getRelPath(file_curr,dir_server) for file_curr in files_curr];\n",
    "                captions_curr=[os.path.split(file_curr)[1]+' '+loss_str for file_curr in files_curr];\n",
    "                if img_caption_pre is not None:\n",
    "                    captions_curr=[img_caption_pre[idx_img_dir]+' '+caption_curr for caption_curr in captions_curr];\n",
    "                files_curr_list.extend(files_curr);\n",
    "                captions_curr_list.extend(captions_curr);\n",
    "                \n",
    "                img_files_all.append(files_curr_list);\n",
    "                captions_all.append(captions_curr_list);\n",
    "\n",
    "    visualize.writeHTML(out_file_html,img_files_all,captions_all,224,224);\n",
    "    \n",
    "\n",
    "def parseLogFile(log_file,gt_loss=False):\n",
    "    log_data=util.readLinesFromFile(log_file);\n",
    "    final_loss_str='minibatches processed: all'\n",
    "\n",
    "    final_loss=[line_curr for line_curr in log_data if final_loss_str in line_curr];\n",
    "    if len(final_loss)!=1:\n",
    "        final_loss='None'\n",
    "    else:\n",
    "        final_loss=final_loss[0].split(' ');\n",
    "        final_loss=final_loss[-1].strip('\"');\n",
    "    gt_str='gt val loss'\n",
    "    \n",
    "    \n",
    "    if gt_loss:\n",
    "        gt_losses=[line_curr for line_curr in log_data if gt_str in line_curr];\n",
    "        gt_losses=[line_curr.split(' ')[-1].strip('\"') for line_curr in gt_losses];\n",
    "        gt_losses=' '.join(gt_losses);\n",
    "    \n",
    "    if gt_loss:\n",
    "        return final_loss,gt_losses\n",
    "    else:\n",
    "        return final_loss;\n",
    "\n",
    "\n",
    "def getCommandTestTrainImages(path_to_th,\n",
    "                              outDir,\n",
    "                              num_ctrl_pts,\n",
    "                              val_horse_data_path,\n",
    "                              val_human_data_path,\n",
    "                             out_dir_images):\n",
    "    command=['th',path_to_th];\n",
    "    command.extend(['-outDir',outDir]);\n",
    "    command.extend(['-model',os.path.join(outDir,'final','model_all_final.dat')])\n",
    "    command.extend(['-num_ctrl_pts',str(num_ctrl_pts)]);\n",
    "    command.extend(['-out_dir_images',out_dir_images]);\n",
    "    command.extend(['-val_horse_data_path',val_horse_data_path]);\n",
    "    command.extend(['-val_human_data_path',val_human_data_path]);\n",
    "    command=' '.join(command);\n",
    "    return command;\n",
    "\n",
    "def getCommandLearningRateSearch(path_to_th,\n",
    "                                outDir,\n",
    "                                learningRate,\n",
    "                                divisor,\n",
    "                                multiplier):\n",
    "    command=['th',path_to_th];\n",
    "    command.extend(['-outDir',outDir]);\n",
    "    command.extend(['learningRate',str(learningRate)]);\n",
    "    command.extend(['divisor',str(divisor)]);\n",
    "    command.extend(['multiplier',str(multiplier)]);\n",
    "    command=' '.join(command);\n",
    "    return command;\n",
    "\n",
    "def comparePerformanceHTML(out_file_html,dirs_meta,dirs_str,gt_loss=False):\n",
    "    test_dirs=[os.path.join(dir_curr,'test_images') for dir_curr in dirs_meta];\n",
    "    log_files=[os.path.join(dir_curr,'log_test.txt') for dir_curr in test_dirs];\n",
    "    loss_ims=[os.path.join(dir_curr,'intermediate','loss_all.png') for dir_curr in dirs_meta];\n",
    "    \n",
    "    losses=[];\n",
    "    for file_curr in log_files:\n",
    "        if os.path.exists(file_curr):\n",
    "            losses.append(parseLogFile(file_curr,gt_loss));\n",
    "        else:\n",
    "            losses.append('No FILE');\n",
    "        \n",
    "#     losses=[parseLogFile(file_curr,gt_loss) for file_curr in log_files];\n",
    "    \n",
    "    # for loss_curr,dir_curr in zip(losses,dirs_meta):\n",
    "    #     print loss_curr,dirs_meta;\n",
    "\n",
    "\n",
    "    imgs=[];\n",
    "    captions=[];\n",
    "    for idx,file_curr in enumerate(loss_ims):\n",
    "        if gt_loss:\n",
    "            loss_curr=losses[idx][0]\n",
    "        else:\n",
    "            loss_curr=losses[idx];\n",
    "        caption_curr=dirs_str[idx]+' '+loss_curr;\n",
    "        captions.append([caption_curr]);\n",
    "        imgs.append([util.getRelPath(file_curr,dir_server)]);\n",
    "\n",
    "    visualize.writeHTML(out_file_html,imgs,captions,500,500);\n",
    "\n",
    "\n",
    "dir_server='/home/SSD3/maheen-data';\n",
    "click_str='http://vision1.idav.ucdavis.edu:1000'"
   ]
  },
  {
   "cell_type": "code",
   "execution_count": 31,
   "metadata": {
    "collapsed": false
   },
   "outputs": [
    {
     "name": "stdout",
     "output_type": "stream",
     "text": [
      "/home/SSD3/maheen-data/horse_project/tps_bn_clean_var_lr_25_small_declr/test_on_train.sh\n"
     ]
    }
   ],
   "source": [
    "\n",
    "dirs_meta=['/home/SSD3/maheen-data/horse_project/tps_bn_clean_var_lr_25_small_declr',\n",
    "           '/home/SSD3/maheen-data/horse_project/tps_bn_clean_var_lr_25_small_declr/epoch_4',\n",
    "            '/home/SSD3/maheen-data/horse_project/tps_bn_clean_var_lr_36_small_declr',\n",
    "            '/home/SSD3/maheen-data/horse_project/tps_bn_clean_var_lr_64_small_declr',\n",
    "            '/home/SSD3/maheen-data/horse_project/tps_bn_clean_var_lr_64_declr/quick_decrease',\n",
    "              '/home/SSD3/maheen-data/horse_project/tps_bn_clean_var_lr_64',\n",
    "          '/home/SSD3/maheen-data/temp/tps_train_allKP_adam_noBad_bn'];\n",
    "num_ctrl_pts=[25,25,36,64,64,64,36];\n",
    "path_to_th='/home/maheenrashid/Downloads/horses/torch/train_tps_var_lr.th'\n",
    "out_dir_images='train_images';\n",
    "path_common='/home/SSD3/maheen-data/horse_project/data_check'\n",
    "\n",
    "# val_horse_data_path=os.path.join(path_common,'horse/matches_5_val_allKP_minLoss_clean.txt');\n",
    "# val_human_data_path=os.path.join(path_common,'aflw/matches_5_val_allKP_minLoss_noIm_clean.txt');\n",
    "\n",
    "val_horse_data_path=os.path.join(path_common,'horse','matches_5_train_allKP_minLoss_clean_subset.txt')\n",
    "val_human_data_path=os.path.join(path_common,'aflw','matches_5_train_allKP_minLoss_noIm_clean_subset.txt')\n",
    "\n",
    "commands=[];\n",
    "out_file_commands=os.path.join(dirs_meta[0],'test_on_train.sh');\n",
    "for num_ctrl_pts,outDir in zip(num_ctrl_pts,dirs_meta):\n",
    "    commands.append(getCommandTestTrainImages(path_to_th,outDir,num_ctrl_pts,\\\n",
    "                                              val_horse_data_path,val_human_data_path,out_dir_images));\n",
    "print out_file_commands\n",
    "util.writeFile(out_file_commands,commands);\n",
    "\n",
    "\n",
    "    \n"
   ]
  },
  {
   "cell_type": "code",
   "execution_count": 21,
   "metadata": {
    "collapsed": false
   },
   "outputs": [
    {
     "name": "stdout",
     "output_type": "stream",
     "text": [
      "3531 193\n",
      "/home/SSD3/maheen-data/horse_project/data_check/horse/matches_5_train_allKP_minLoss_clean_subset.txt\n",
      "3531 193\n",
      "/home/SSD3/maheen-data/horse_project/data_check/aflw/matches_5_train_allKP_minLoss_clean_subset.txt\n",
      "3531 193\n",
      "/home/SSD3/maheen-data/horse_project/data_check/aflw/matches_5_train_allKP_minLoss_noIm_clean_subset.txt\n"
     ]
    }
   ],
   "source": [
    "\n",
    "\n",
    "horse_data_path=os.path.join(path_common,'horse','matches_5_train_allKP_minLoss_clean.txt')\n",
    "human_data_path=os.path.join(path_common,'aflw','matches_5_train_allKP_minLoss_clean.txt')\n",
    "human_data_path_noIm=os.path.join(path_common,'aflw','matches_5_train_allKP_minLoss_noIm_clean.txt')\n",
    "\n",
    "files=[horse_data_path,human_data_path,human_data_path_noIm];\n",
    "out_files=[file_curr[:file_curr.rindex('.')]+'_subset.txt' for file_curr in files];\n",
    "\n",
    "data_horse=util.readLinesFromFile(horse_data_path);\n",
    "idx=range(len(data_horse));\n",
    "random.shuffle(idx);\n",
    "to_select=193;\n",
    "idx=idx[:to_select];\n",
    "\n",
    "\n",
    "for in_file,out_file in zip(files,out_files):\n",
    "    data_curr=util.readLinesFromFile(in_file);\n",
    "    data_out=[data_curr[idx_curr] for idx_curr in idx]\n",
    "    print len(data_curr),len(data_out);\n",
    "    print out_file\n",
    "    util.writeFile(out_file,data_out);\n",
    "\n",
    "\n"
   ]
  },
  {
   "cell_type": "code",
   "execution_count": 33,
   "metadata": {
    "collapsed": false
   },
   "outputs": [
    {
     "name": "stdout",
     "output_type": "stream",
     "text": [
      "http://vision1.idav.ucdavis.edu:1000/horse_project/tps_bn_clean_var_lr_25_small_declr/comparativeLosses.html\n"
     ]
    }
   ],
   "source": [
    "dirs_meta=['/home/SSD3/maheen-data/horse_project/tps_bn_clean_var_lr_25_small_declr',\n",
    "              '/home/SSD3/maheen-data/horse_project/tps_bn_clean_var_lr_25_small_declr/epoch_4',\n",
    "            '/home/SSD3/maheen-data/horse_project/tps_bn_clean_var_lr_36_small_declr',\n",
    "            '/home/SSD3/maheen-data/horse_project/tps_bn_clean_var_lr_64_small_declr',\n",
    "            '/home/SSD3/maheen-data/horse_project/tps_bn_clean_var_lr_64_declr/quick_decrease',\n",
    "              '/home/SSD3/maheen-data/horse_project/tps_bn_clean_var_lr_64',\n",
    "          '/home/SSD3/maheen-data/temp/tps_train_allKP_adam_noBad_bn'];\n",
    "\n",
    "dirs_strs=['25 small dec','25 small dec diff','36 small dec','64 small dec','64 big dec','64 big nodec','orig 36 small nodec']\n",
    "\n",
    "out_file_html=os.path.join(dirs_meta[0],'comparativeLosses.html');\n",
    "dir_server='/home/SSD3/maheen-data';\n",
    "click_str='http://vision1.idav.ucdavis.edu:1000'\n",
    "\n",
    "comparePerformanceHTML(out_file_html,dirs_meta,dirs_str,True);\n",
    "print out_file_html.replace(dir_server,click_str)\n"
   ]
  },
  {
   "cell_type": "code",
   "execution_count": 41,
   "metadata": {
    "collapsed": false
   },
   "outputs": [
    {
     "name": "stdout",
     "output_type": "stream",
     "text": [
      "http://vision1.idav.ucdavis.edu:1000/horse_project/tps_bn_clean_var_lr_25_small_declr/comparison_viz.html\n"
     ]
    }
   ],
   "source": [
    "dirs_meta=['/home/SSD3/maheen-data/horse_project/tps_bn_clean_var_lr_25_small_declr',\n",
    "           '/home/SSD3/maheen-data/horse_project/tps_bn_clean_var_lr_36_small_declr',\n",
    "          '/home/SSD3/maheen-data/temp/tps_train_allKP_adam_noBad_bn'];\n",
    "img_dirs=[os.path.join(dir_curr,'test_images') for dir_curr in dirs_meta];\n",
    "file_post=['_horse.jpg','_gtwarp.jpg','_predwarp.jpg',];\n",
    "img_caption_pre=['25 small dec','36 small dec','orig 36 small nodec']\n",
    "range_batches=[1,2];\n",
    "range_images=range(1,101);\n",
    "dir_server='/home/SSD3/maheen-data';\n",
    "click_str='http://vision1.idav.ucdavis.edu:1000';\n",
    "out_file_html=os.path.join(dirs_meta[0],'comparison_viz.html');\n",
    "loss_post=None;\n",
    "comparativeLossViz(img_dirs,file_post,loss_post,range_batches,range_images,\n",
    "                   out_file_html,dir_server,img_caption_pre)\n",
    "print out_file_html.replace(dir_server,click_str);\n",
    "\n"
   ]
  },
  {
   "cell_type": "code",
   "execution_count": 56,
   "metadata": {
    "collapsed": false
   },
   "outputs": [
    {
     "name": "stdout",
     "output_type": "stream",
     "text": [
      "http://vision1.idav.ucdavis.edu:1000/horse_project/ft_horse_allKp_full_big_clean_fullBack_varlr_25/start_1e-2/comparison_viz.html\n"
     ]
    }
   ],
   "source": [
    "dirs_meta=['/home/SSD3/maheen-data/horse_project/ft_horse_allKp_full_big_clean_fullBack_varlr_25/start_1e-2',\n",
    "           '/home/SSD3/maheen-data/horse_project/vanilla_ft_horse_1e-2/resume_1e-3'];\n",
    "\n",
    "img_dirs=[os.path.join(dir_curr,'test_images') for dir_curr in dirs_meta];\n",
    "file_post=['_org.jpg']\n",
    "img_caption_pre=['warp ft 25','no warp ft']\n",
    "range_batches=[1,2];\n",
    "range_images=range(1,101);\n",
    "dir_server='/home/SSD3/maheen-data';\n",
    "click_str='http://vision1.idav.ucdavis.edu:1000';\n",
    "out_file_html=os.path.join(dirs_meta[0],'comparison_viz.html');\n",
    "loss_post=None;\n",
    "comparativeLossViz(img_dirs,file_post,loss_post,range_batches,range_images,\n",
    "                   out_file_html,dir_server,img_caption_pre)\n",
    "print out_file_html.replace(dir_server,click_str);\n"
   ]
  },
  {
   "cell_type": "code",
   "execution_count": 15,
   "metadata": {
    "collapsed": false
   },
   "outputs": [
    {
     "name": "stdout",
     "output_type": "stream",
     "text": [
      "3\n",
      "['/home/SSD3/maheen-data/temp/train_tps_full_system_lr_search/0.sh', '/home/SSD3/maheen-data/temp/train_tps_full_system_lr_search/1.sh', '/home/SSD3/maheen-data/temp/train_tps_full_system_lr_search/2.sh', '/home/SSD3/maheen-data/temp/train_tps_full_system_lr_search/3.sh']\n",
      "/home/SSD3/maheen-data/temp/train_tps_full_system_lr_search/0.sh 3\n"
     ]
    }
   ],
   "source": [
    "dir_meta='/home/SSD3/maheen-data/temp/train_tps_full_system_lr_search';\n",
    "path_to_th='/home/maheenrashid/Downloads/horses/torch/train_tps_full_system.th'\n",
    "util.mkdir(dir_meta);\n",
    "divisors=[1,10,100];\n",
    "multipliers=[0,1,10,100];\n",
    "learningRates=[1e-2,1e-3,1e-4];\n",
    "num_files=1\n",
    "\n",
    "commands=[];\n",
    "for div in divisors:\n",
    "    for mul in multipliers:\n",
    "        for lr in learningRates:\n",
    "            out_dir_curr=os.path.join(dir_meta,str(lr)+'_'+str(div)+'_'+str(mul))\n",
    "            loss_check_file=os.path.join(out_dir_curr,'test_images','loss_final_val.npy');\n",
    "            loss_log_file=os.path.join(out_dir_curr,'test_images','log_test.txt');\n",
    "            loss_plot_file=os.path.join(out_dir_curr,'intermediate','loss_all.png');\n",
    "            if not os.path.exists(loss_check_file) and os.path.exists(loss_log_file):\n",
    "#             if not os.path.exists(loss_log_file):\n",
    "                command_curr=getCommandLearningRateSearch(path_to_th,out_dir_curr,lr,div,mul);\n",
    "                commands.append(command_curr);\n",
    "            \n",
    "random.shuffle(commands);\n",
    "print len(commands);\n",
    "out_files=[os.path.join(dir_meta,str(num)+'.sh') for num in range(4)];\n",
    "print out_files;\n",
    "# str_check=[str(num) for num in range(len(commands))]\n",
    "num_one_file=len(commands)/num_files;\n",
    "commands_broken=[commands[num_one_file*i:num_one_file*i+num_one_file] for i in range(num_files)];\n",
    "for out_file,commands_curr in zip(out_files,commands_broken):\n",
    "    print out_file,len(commands_curr)\n",
    "    util.writeFile(out_file,commands_curr);\n",
    "\n",
    "\n"
   ]
  },
  {
   "cell_type": "code",
   "execution_count": 30,
   "metadata": {
    "collapsed": false
   },
   "outputs": [
    {
     "name": "stdout",
     "output_type": "stream",
     "text": [
      "2\n",
      "/home/SSD3/maheen-data/temp/train_tps_kpFixed_system_lr_search/0.sh 2\n",
      "http://vision1.idav.ucdavis.edu:1000/temp/train_tps_kpFixed_system_lr_search/comparativeLosses.html\n"
     ]
    }
   ],
   "source": [
    "dir_meta='/home/SSD3/maheen-data/temp/train_tps_kpFixed_system_lr_search';\n",
    "util.mkdir(dir_meta)\n",
    "path_to_th='/home/maheenrashid/Downloads/horses/torch/train_tps_full_system.th'\n",
    "util.mkdir(dir_meta);\n",
    "divisors=[0];\n",
    "# [100,1000,0];\n",
    "multipliers=[0];\n",
    "learningRates=[1e-2,1e-3]\n",
    "# [1e-4,1e-5,1e-6];\n",
    "num_files=1\n",
    "\n",
    "commands=[];\n",
    "out_dirs=[];\n",
    "for div in divisors:\n",
    "    for mul in multipliers:\n",
    "        for lr in learningRates:\n",
    "            out_dir_curr=os.path.join(dir_meta,str(lr)+'_'+str(div)+'_'+str(mul))\n",
    "            out_dirs.append(out_dir_curr);\n",
    "\n",
    "#             loss_check_file=os.path.join(out_dir_curr,'test_images','loss_final_val.npy');\n",
    "#             loss_log_file=os.path.join(out_dir_curr,'test_images','log_test.txt');\n",
    "#             loss_plot_file=os.path.join(out_dir_curr,'intermediate','loss_all.png');\n",
    "#             if not os.path.exists(loss_check_file) and os.path.exists(loss_log_file):\n",
    "#             if not os.path.exists(loss_log_file):\n",
    "            command_curr=getCommandLearningRateSearch(path_to_th,out_dir_curr,lr,div,mul);\n",
    "            commands.append(command_curr);\n",
    "            \n",
    "random.shuffle(commands);\n",
    "print len(commands);\n",
    "out_files=[os.path.join(dir_meta,str(num)+'.sh') for num in range(4)];\n",
    "# print out_files;\n",
    "# str_check=[str(num) for num in range(len(commands))]\n",
    "num_one_file=len(commands)/num_files;\n",
    "commands_broken=[commands[num_one_file*i:num_one_file*i+num_one_file] for i in range(num_files)];\n",
    "for out_file,commands_curr in zip(out_files,commands_broken):\n",
    "    print out_file,len(commands_curr)\n",
    "    util.writeFile(out_file,commands_curr);\n",
    "    \n",
    "\n",
    "out_file_html=os.path.join(dir_meta,'loss_comparison.html');\n",
    "\n",
    "dirs_str=[os.path.split(dir_curr)[1] for dir_curr in out_dirs]\n",
    "\n",
    "out_file_html=os.path.join(dir_meta,'comparativeLosses.html');\n",
    "dir_server='/home/SSD3/maheen-data';\n",
    "click_str='http://vision1.idav.ucdavis.edu:1000'\n",
    "\n",
    "comparePerformanceHTML(out_file_html,out_dirs,dirs_str);\n",
    "print out_file_html.replace(dir_server,click_str);\n"
   ]
  },
  {
   "cell_type": "code",
   "execution_count": 24,
   "metadata": {
    "collapsed": false
   },
   "outputs": [
    {
     "name": "stdout",
     "output_type": "stream",
     "text": [
      "http://vision1.idav.ucdavis.edu:1000/temp/train_tps_full_system_lr_search/comparativeLosses.html\n"
     ]
    }
   ],
   "source": [
    "dir_meta='/home/SSD3/maheen-data/temp/train_tps_full_system_lr_search';\n",
    "path_to_th='/home/maheenrashid/Downloads/horses/torch/train_tps_full_system.th'\n",
    "util.mkdir(dir_meta);\n",
    "divisors=[1,10,100];\n",
    "multipliers=[0,1,10,100];\n",
    "learningRates=[1e-2,1e-3,1e-4];\n",
    "\n",
    "out_dirs=[]\n",
    "\n",
    "for div in divisors:\n",
    "    for mul in multipliers:\n",
    "        for lr in learningRates:\n",
    "            out_dir_curr=os.path.join(dir_meta,str(lr)+'_'+str(div)+'_'+str(mul))\n",
    "            out_dirs.append(out_dir_curr);\n",
    "\n",
    "out_file_html=os.path.join(dir_meta,'loss_comparison.html');\n",
    "\n",
    "dirs_str=[os.path.split(dir_curr)[1] for dir_curr in out_dirs]\n",
    "\n",
    "out_file_html=os.path.join(dir_meta,'comparativeLosses.html');\n",
    "dir_server='/home/SSD3/maheen-data';\n",
    "click_str='http://vision1.idav.ucdavis.edu:1000'\n",
    "\n",
    "comparePerformanceHTML(out_file_html,out_dirs,dirs_str);\n",
    "print out_file_html.replace(dir_server,click_str);\n"
   ]
  },
  {
   "cell_type": "code",
   "execution_count": 23,
   "metadata": {
    "collapsed": false
   },
   "outputs": [
    {
     "name": "stdout",
     "output_type": "stream",
     "text": [
      "http://vision1.idav.ucdavis.edu:1000/temp/train_tps_full_system_lr_search/0.001_100_1/test_images/test_images.html\n"
     ]
    }
   ],
   "source": [
    "dir_curr='/home/SSD3/maheen-data/temp/train_tps_full_system_lr_search/0.001_100_1/test_images';\n",
    "visualize.writeHTMLForFolder(dir_curr);\n",
    "print os.path.join(dir_curr,os.path.split(dir_curr)[1]+'.html').replace(dir_server,click_str);"
   ]
  },
  {
   "cell_type": "code",
   "execution_count": 9,
   "metadata": {
    "collapsed": false
   },
   "outputs": [
    {
     "name": "stdout",
     "output_type": "stream",
     "text": [
      "http://vision1.idav.ucdavis.edu:1000/temp/analyze_tps/compare_fix.html\n"
     ]
    }
   ],
   "source": [
    "dir_meta='/home/SSD3/maheen-data/temp/analyze_tps';\n",
    "pre_path=os.path.join(dir_meta,'tps_pre_128_50');\n",
    "post_path=os.path.join(dir_meta,'tps_post_128_50_0_1e-2');\n",
    "# pre_path=os.path.join(dir_meta,'vanilla_pre_horse');\n",
    "# post_path=os.path.join(dir_meta,'vanilla_post_horse');\n",
    "dirs=[pre_path,post_path];\n",
    "out_file_html=os.path.join(dir_meta,'compare_fix.html');\n",
    "img_paths=[];\n",
    "captions=[];\n",
    "for i in range(1,23):\n",
    "    img_curr=str(i)+'.png';\n",
    "    img_paths.append([util.getRelPath(os.path.join(dir_curr,img_curr),dir_server) for dir_curr in dirs]);\n",
    "    captions.append(['pre','post']);\n",
    "\n",
    "visualize.writeHTML(out_file_html,img_paths,captions,500,500);\n",
    "print out_file_html.replace(dir_server,click_str);"
   ]
  },
  {
   "cell_type": "code",
   "execution_count": 2,
   "metadata": {
    "collapsed": false
   },
   "outputs": [
    {
     "name": "stdout",
     "output_type": "stream",
     "text": [
      "http://vision1.idav.ucdavis.edu:1000/horse_project/train_tps_full_system_1e-3_100_1/resume_1e-4/test_images/viz.html\n"
     ]
    }
   ],
   "source": [
    "img_dirs=[os.path.join(dir_server,'horse_project/train_tps_full_system_1e-3_100_1/resume_1e-4/test_images')];\n",
    "file_post=['.jpg','_org.jpg'];\n",
    "out_file_html=os.path.join(img_dirs[0],'viz.html');\n",
    "range_images=range(1,65);\n",
    "range_batches=range(1,4);\n",
    "loss_post=None;\n",
    "comparativeLossViz(img_dirs,file_post,loss_post,range_batches,range_images,out_file_html,dir_server)\n",
    "print out_file_html.replace(dir_server,click_str)"
   ]
  },
  {
   "cell_type": "code",
   "execution_count": 8,
   "metadata": {
    "collapsed": false
   },
   "outputs": [
    {
     "name": "stdout",
     "output_type": "stream",
     "text": [
      "http://vision1.idav.ucdavis.edu:1000/horse_project/tps_25_1e-2_0/comparison.html\n"
     ]
    }
   ],
   "source": [
    "img_dirs=[os.path.join\\\n",
    "          (dir_server,'horse_project/tps_bn_clean_var_lr_25_small_declr/test_images'),os.path.join\\\n",
    "          (dir_server,'horse_project/tps_25_1e-2_0/test_images')];\n",
    "\n",
    "file_post=['_horse.jpg','_gtwarp.jpg','_predwarp.jpg'];\n",
    "out_file_html=os.path.join(dir_server,'horse_project/tps_25_1e-2_0/comparison.html')\n",
    "img_caption_pre=['finetune','fixed']\n",
    "range_images=range(1,101);\n",
    "range_batches=range(1,3);\n",
    "loss_post=None;\n",
    "comparativeLossViz(img_dirs,file_post,loss_post,range_batches,range_images,out_file_html,dir_server,img_caption_pre)\n",
    "print out_file_html.replace(dir_server,click_str)"
   ]
  }
 ],
 "metadata": {
  "kernelspec": {
   "display_name": "Python 2",
   "language": "python",
   "name": "python2"
  },
  "language_info": {
   "codemirror_mode": {
    "name": "ipython",
    "version": 2
   },
   "file_extension": ".py",
   "mimetype": "text/x-python",
   "name": "python",
   "nbconvert_exporter": "python",
   "pygments_lexer": "ipython2",
   "version": "2.7.6"
  }
 },
 "nbformat": 4,
 "nbformat_minor": 0
}

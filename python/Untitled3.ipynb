{
 "cells": [
  {
   "cell_type": "code",
   "execution_count": 11,
   "metadata": {
    "collapsed": false
   },
   "outputs": [
    {
     "name": "stdout",
     "output_type": "stream",
     "text": [
      "30.49\n",
      "15.245\n",
      "0.0592885375494\n",
      "42.0948616601\n",
      "236.84986166\n"
     ]
    }
   ],
   "source": [
    "uber_total=[3.78,3.18,3.15,1.01,1.30,2.82,1.26,2.67,2.36,2.17,2.34,4.45];\n",
    "uber_total=sum(uber_total);\n",
    "print uber_total\n",
    "uber_tad=uber_total/2;\n",
    "print uber_tad;\n",
    "air_tad=286.51;\n",
    "already_paid=107;\n",
    "shopping_tad=[20,30,50,70,250,140,150];\n",
    "exchange_rate=300/5060.0;\n",
    "print exchange_rate;\n",
    "shopping_tad=sum(shopping_tad)*exchange_rate;\n",
    "print shopping_tad;\n",
    "total_tad=uber_tad+shopping_tad+air_tad-already_paid;\n",
    "print total_tad;"
   ]
  },
  {
   "cell_type": "code",
   "execution_count": 46,
   "metadata": {
    "collapsed": false
   },
   "outputs": [
    {
     "name": "stdout",
     "output_type": "stream",
     "text": [
      "56.8994334278\n",
      "78.9195141643\n",
      "554.8\n",
      "267.578111898\n",
      "-267.568111898\n"
     ]
    }
   ],
   "source": [
    "total_pesos_maheen=[500,600,186,40,500,240,100,30,100,90,40,150]  \n",
    "total_dollars=[45.23,286.51,53.5,15.25]\n",
    "total_pesos_tad=[20,30,50,70,250,140,150]\n",
    "\n",
    "er_avg=401.71/7060\n",
    "er_bef=300/5060.0;\n",
    "er_aft=101.71/2000;\n",
    "leftover=er_avg*1000;\n",
    "print leftover;\n",
    "total_paid_maheen=sum([200,101.71,30.49,286.51*2,45.23])-leftover;\n",
    "total_paid_tad=sum([100,45.23,107]);\n",
    "\n",
    "daily=6060-sum(total_pesos_maheen)-sum(total_pesos_tad)\n",
    "daily_split_pesos=daily/2.0;\n",
    "print daily_split_pesos*er_avg;\n",
    "print daily/5.0;\n",
    "# daily_split=daily/2.0*er_avg;\n",
    "# print daily_split\n",
    "# tad_paid_daily=100-sum(total_pesos_tad)*er_avg;\n",
    "# print tad_paid_daily\n",
    "# tad_owed_daily=daily_split-tad_paid_daily\n",
    "# print tad_owed_daily\n",
    "# # + sum(total_dollars) - total_paid_tad\n",
    "\n",
    "\n",
    "\n",
    "total_tad=sum(total_pesos_tad)*er_avg + daily_split_pesos*er_avg +sum(total_dollars) - total_paid_tad\n",
    "print total_tad\n",
    "total_maheen=sum(total_pesos_maheen)*er_avg +sum(total_dollars)-total_paid_maheen+daily_split_pesos*er_avg\n",
    "print total_maheen\n",
    "\n"
   ]
  }
 ],
 "metadata": {
  "kernelspec": {
   "display_name": "Python 2",
   "language": "python",
   "name": "python2"
  },
  "language_info": {
   "codemirror_mode": {
    "name": "ipython",
    "version": 2
   },
   "file_extension": ".py",
   "mimetype": "text/x-python",
   "name": "python",
   "nbconvert_exporter": "python",
   "pygments_lexer": "ipython2",
   "version": "2.7.6"
  }
 },
 "nbformat": 4,
 "nbformat_minor": 0
}

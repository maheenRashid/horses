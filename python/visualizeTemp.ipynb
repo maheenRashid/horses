{
 "cells": [
  {
   "cell_type": "code",
   "execution_count": 21,
   "metadata": {
    "collapsed": true
   },
   "outputs": [],
   "source": [
    "import numpy as np;\n",
    "import os;\n",
    "import util;\n",
    "import visualize;\n",
    "\n",
    "def comparativeLossViz(img_dirs,file_post,loss_post,range_batches,range_images,out_file_html,dir_server,img_caption_pre=None):\n",
    "    img_files_all=[];\n",
    "    captions_all=[];\n",
    "    if img_caption_pre is not None:\n",
    "        assert len(img_caption_pre)==len(img_dirs);\n",
    "    batch_str=True;\n",
    "    if range_batches is None:\n",
    "        range_batches=range(1);\n",
    "        batch_str=False;\n",
    "    \n",
    "    for batch_num in range_batches:\n",
    "    # range(1,num_batches+1):\n",
    "        for im_num in range_images:\n",
    "            files_curr_list=[];\n",
    "            captions_curr_list=[];\n",
    "            for idx_img_dir,img_dir in enumerate(img_dirs):\n",
    "                if loss_post is None:\n",
    "                    loss_str='';\n",
    "                else:\n",
    "                    loss_all=np.load(os.path.join(img_dir,str(batch_num)+loss_post));\n",
    "                    if im_num>loss_all.shape[0]:\n",
    "                        continue;\n",
    "                    loss_curr=loss_all[im_num-1,0];\n",
    "                    loss_str=\"{:10.4f}\".format(loss_curr);\n",
    "                if not batch_str:\n",
    "                    files_curr=[os.path.join(img_dir,str(im_num)+file_post_curr) for file_post_curr in file_post];\n",
    "                else:\n",
    "                    files_curr=[os.path.join(img_dir,str(batch_num)+'_'+str(im_num)+file_post_curr) for file_post_curr in file_post];\n",
    "                files_curr=[util.getRelPath(file_curr,dir_server) for file_curr in files_curr];\n",
    "                captions_curr=[os.path.split(file_curr)[1]+' '+loss_str for file_curr in files_curr];\n",
    "                if img_caption_pre is not None:\n",
    "                    captions_curr=[img_caption_pre[idx_img_dir]+' '+caption_curr for caption_curr in captions_curr];\n",
    "                files_curr_list.extend(files_curr);\n",
    "                captions_curr_list.extend(captions_curr);\n",
    "            img_files_all.append(files_curr_list);\n",
    "            captions_all.append(captions_curr_list);\n",
    "    visualize.writeHTML(out_file_html,img_files_all,captions_all,224,224);"
   ]
  },
  {
   "cell_type": "code",
   "execution_count": 22,
   "metadata": {
    "collapsed": false
   },
   "outputs": [
    {
     "name": "stdout",
     "output_type": "stream",
     "text": [
      "/home/SSD3/maheen-data/training_5_kp_withWarp_fixed_adam__1e-05/over_time_train.html\n"
     ]
    }
   ],
   "source": [
    "dir_server='/home/SSD3/maheen-data';\n",
    "dir_meta='/home/SSD3/maheen-data/training_5_kp_withWarp_fixed_adam__1e-05'\n",
    "# range_batches=range(1,2);\n",
    "# batch_size=60;\n",
    "range_images=range(1,100);\n",
    "img_dir_meta=os.path.join(dir_meta,'over_time_train');\n",
    "range_models=range(75,5000,75*8);\n",
    "img_dir=[os.path.join(img_dir_meta,str(range_model_curr)) for range_model_curr in range_models]\n",
    "\n",
    "file_post=['_org.jpg','_warp.jpg'];\n",
    "out_file_html=img_dir_meta+'.html';\n",
    "print out_file_html\n",
    "img_caption_pre=[str(model_num) for model_num in range_models];\n",
    "comparativeLossViz(img_dir,file_post,None,None,range_images,out_file_html,dir_server,img_caption_pre)\n"
   ]
  },
  {
   "cell_type": "code",
   "execution_count": 15,
   "metadata": {
    "collapsed": false
   },
   "outputs": [
    {
     "name": "stdout",
     "output_type": "stream",
     "text": [
      "300 2100\n",
      "vision1.idav.ucdavis.edu:1000/temp/tps_train_allKP_adam_noBad_bn/loss.png\n"
     ]
    }
   ],
   "source": [
    "dir_server='/home/SSD3/maheen-data';\n",
    "dir_meta='/home/SSD3/maheen-data/horse_project/tps_train_allKP_adam_noBad'\n",
    "\n",
    "dir_meta='/home/SSD3/maheen-data/temp/tps_train_allKP_adam_noBad_bn'\n",
    "dir_loss=os.path.join(dir_meta,'intermediate');\n",
    "loss_pre='loss_all_';\n",
    "loss_post_val='_val.npy';\n",
    "loss_post_normal='.npy';\n",
    "test_after=30;\n",
    "\n",
    "loss_files=[file_curr for file_curr in os.listdir(dir_loss) if file_curr.startswith(loss_pre)];\n",
    "loss_nums=[int(file_curr[:file_curr.rindex('.')].split('_')[2]) for file_curr in loss_files];\n",
    "print min(loss_nums),max(loss_nums);\n",
    "loss_num=max(loss_nums);\n",
    "loss_file=os.path.join(dir_loss,loss_pre+str(loss_num)+loss_post_normal);\n",
    "loss_file_val=os.path.join(dir_loss,loss_pre+str(loss_num)+loss_post_val);\n",
    "loss=np.load(loss_file);\n",
    "loss_val=np.load(loss_file_val);\n",
    "iter_loss=range(loss.size);\n",
    "iter_val=range(0,loss_val.size*test_after,test_after);\n",
    "loss_val_new=[loss_curr for loss_curr in loss_val if loss_curr<1];\n",
    "iter_val=[loss_curr for idx,loss_curr in enumerate(iter_val) if loss_val[idx]<1];\n",
    "loss_val=loss_val_new;\n",
    "\n",
    "out_file_score=os.path.join(dir_meta,'loss.png');\n",
    "print out_file_score.replace(dir_server,'vision1.idav.ucdavis.edu:1000');\n",
    "visualize.plotSimple([(iter_loss,loss),(iter_val,loss_val)],\\\n",
    "                     out_file_score,title='Score Loss at '+str(iter_loss[-1]),xlabel='Iterations',\\\n",
    "                     ylabel='Loss',legend_entries=['Train','Val'])\n",
    "\n",
    "\n"
   ]
  },
  {
   "cell_type": "code",
   "execution_count": 20,
   "metadata": {
    "collapsed": false
   },
   "outputs": [
    {
     "name": "stdout",
     "output_type": "stream",
     "text": [
      "4720\n",
      "944\n",
      "/home/SSD3/maheen-data/horse_project/horse_resize/matches_5_train_fiveKP_select.txt\n",
      "/home/SSD3/maheen-data/horse_project/aflw/matches_5_train_fiveKP_noIm_select.txt\n"
     ]
    }
   ],
   "source": [
    "import random;\n",
    "# horse_path='/home/SSD3/maheen-data/horse_project/data_check/horse/matches_5_train_allKP.txt';\n",
    "# human_path='/home/SSD3/maheen-data/horse_project/data_check/aflw/matches_5_train_allKP.txt';\n",
    "\n",
    "horse_path = '/home/SSD3/maheen-data/horse_project/horse_resize/matches_5_train_fiveKP.txt';\n",
    "human_path = '/home/SSD3/maheen-data/horse_project/aflw/matches_5_train_fiveKP_noIm.txt';\n",
    "\n",
    "horse_data=util.readLinesFromFile(horse_path);\n",
    "human_data=util.readLinesFromFile(human_path);\n",
    "idx_keep=range(0,len(horse_data),5);\n",
    "print len(horse_data);\n",
    "print len(idx_keep);\n",
    "horse_data=[horse_data[idx] for idx in idx_keep];\n",
    "human_data=[human_data[idx] for idx in idx_keep];\n",
    "shuffle_idx=range(len(horse_data));\n",
    "random.shuffle(shuffle_idx);\n",
    "horse_data=[horse_data[idx] for idx in shuffle_idx];\n",
    "human_data=[human_data[idx] for idx in shuffle_idx];\n",
    "\n",
    "for file_curr,data_curr in [(horse_path,horse_data),(human_path,human_data)]:\n",
    "    out_file_curr=file_curr[:file_curr.rindex('.')]+'_select.txt';\n",
    "    print out_file_curr;\n",
    "    util.writeFile(out_file_curr,data_curr);\n",
    "    \n",
    "\n",
    "\n",
    "\n",
    "\n",
    "\n"
   ]
  },
  {
   "cell_type": "code",
   "execution_count": 21,
   "metadata": {
    "collapsed": false
   },
   "outputs": [
    {
     "name": "stdout",
     "output_type": "stream",
     "text": [
      "[75, 675, 1275, 1875, 2475, 3075, 3675, 4275, 4875]\n",
      "/home/SSD3/maheen-data/training_5_kp_withWarp_fixed_adam__1e-05/over_time_train.sh\n"
     ]
    }
   ],
   "source": [
    "# path_models='/home/SSD3/maheen-data/training_5_kp_withWarp_fixed_adam__1e-05/intermediate/'\n",
    "dir_meta='/home/SSD3/maheen-data/training_5_kp_withWarp_fixed_adam__1e-05'\n",
    "path_to_models=os.path.join(dir_meta,'intermediate')\n",
    "out_dir_meta=os.path.join(dir_meta,'over_time_train');\n",
    "util.mkdir(out_dir_meta);\n",
    "\n",
    "model_pre=os.path.join(path_to_models,'model_all_');\n",
    "model_post='.dat'\n",
    "range_models=range(75,5000,75*8);\n",
    "print range_models\n",
    "\n",
    "path_to_th='/home/maheenrashid/Downloads/horses/torch/test_xiuye.th';\n",
    "out_file_sh=out_dir_meta+'.sh'\n",
    "commands=[];\n",
    "for model_idx,model_num in enumerate(range_models):\n",
    "    model_curr=model_pre+str(model_num)+model_post;\n",
    "    assert os.path.exists(model_curr);\n",
    "    out_dir_curr=os.path.join(out_dir_meta,str(model_num));\n",
    "    command=['th',path_to_th];\n",
    "    command.extend(['-kp_net_file',model_curr]);\n",
    "    command.extend(['out_dir',out_dir_curr]);\n",
    "    command=' '.join(command);\n",
    "    commands.append(command);\n",
    "# print commands\n",
    "util.writeFile(out_file_sh,commands)\n",
    "print out_file_sh\n",
    "    \n",
    "\n"
   ]
  },
  {
   "cell_type": "code",
   "execution_count": 6,
   "metadata": {
    "collapsed": false
   },
   "outputs": [
    {
     "name": "stdout",
     "output_type": "stream",
     "text": [
      "http://vision1.idav.ucdavis.edu:1000/temp/tps_train_allKP_adam_noBad_bn/test_viz.html\n"
     ]
    }
   ],
   "source": [
    "dir_server='/home/SSD3/maheen-data';\n",
    "dir_meta='/home/SSD3/maheen-data/temp/tps_train_allKP_adam_noBad_bn/'\n",
    "range_batches=range(1,2);\n",
    "# batch_size=60;\n",
    "range_images=range(1,94);\n",
    "img_dir=[os.path.join(dir_meta,'test_viz')];\n",
    "# range_models=range(75,5000,75*8);\n",
    "# img_dir=[os.path.join(img_dir_meta,str(range_model_curr)) for range_model_curr in range_models]\n",
    "\n",
    "file_post=['_horse.jpg','_gtwarp.jpg','_predwarp.jpg'];\n",
    "out_file_html=img_dir[0]+'.html';\n",
    "print out_file_html.replace(dir_server,'http://vision1.idav.ucdavis.edu:1000')\n",
    "# img_caption_pre=[str(model_num) for model_num in range_models];\n",
    "comparativeLossViz(img_dir,file_post,None,range_batches,range_images,out_file_html,dir_server,None);\n",
    "\n",
    "# comparativeLossViz(img_dirs,file_post,loss_post,range_batches,range_images,out_file_html,dir_server,img_caption_pre=None)"
   ]
  },
  {
   "cell_type": "code",
   "execution_count": 32,
   "metadata": {
    "collapsed": false
   },
   "outputs": [
    {
     "name": "stdout",
     "output_type": "stream",
     "text": [
      "http://vision1.idav.ucdavis.edu:1000/horse_project/ft_horse_allKp_gtWarp_halfBack_1e-3/comparison_withFT.html\n"
     ]
    }
   ],
   "source": [
    "dir_server='/home/SSD3/maheen-data';\n",
    "dir_meta='/home/SSD3/maheen-data/horse_project/ft_horse_allKp_gtWarp_halfBack_1e-2/debug'\n",
    "dir_meta='/home/SSD3/maheen-data/horse_project/ft_horse_allKp_gtWarp_halfBack_1e-4'\n",
    "\n",
    "dir_meta='/home/SSD3/maheen-data/horse_project/ft_horse_allKp_gtWarp_halfBack_1e-3';\n",
    "# /1064/test_images/log_test.txt  /home/SSD3/maheen-data/horse_project/ft_horse_allKp_gtWarp_halfBack_1e-3/560/test_images/log_test.txt\n",
    "# /home/SSD3/maheen-data/horse_project/ft_horse_allKp_gtWarp_halfBack_1e-3/1680/test_images/log_test.txt  /home/SSD3/maheen-data/horse_project/ft_horse_allKp_gtWarp_halfBack_1e-3/final/test_images/log_test.txt\n",
    "\n",
    "range_batches=range(1,2);\n",
    "# [5,10];\n",
    "# batch_size=60;\n",
    "range_images=range(1,101);\n",
    "# img_dir=[dir_meta];\n",
    "\n",
    "# img_caption_pre=['final','1680','1064','560'];\n",
    "img_caption_pre=['1680','ft_orglr_20epoch'];\n",
    "img_dir=[os.path.join(dir_meta,img_caption_pre_curr,'test_images') for img_caption_pre_curr in img_caption_pre];\n",
    "\n",
    "# range_models=range(75,5000,75*8);\n",
    "# img_dir=[os.path.join(img_dir_meta,str(range_model_curr)) for range_model_curr in range_models]\n",
    "\n",
    "# file_post=['_gt.jpg','_gtwarp.jpg'];\n",
    "file_post=['_org.jpg']\n",
    "# ,'.jpg']\n",
    "# ,'.jpg']\n",
    "out_file_html=os.path.join(dir_meta,'comparison_withFT')+'.html';\n",
    "print out_file_html.replace(dir_server,'http://vision1.idav.ucdavis.edu:1000')\n",
    "# img_caption_pre=[str(model_num) for model_num in range_models];\n",
    "comparativeLossViz(img_dir,file_post,None,range_batches,range_images,out_file_html,dir_server,img_caption_pre);\n"
   ]
  },
  {
   "cell_type": "code",
   "execution_count": 29,
   "metadata": {
    "collapsed": false
   },
   "outputs": [
    {
     "name": "stdout",
     "output_type": "stream",
     "text": [
      "http://vision1.idav.ucdavis.edu:1000/temp/distorted_humans/comparison_40.html\n"
     ]
    }
   ],
   "source": [
    "dir_server='/home/SSD3/maheen-data';\n",
    "dir_meta='/home/SSD3/maheen-data/temp/distorted_humans'\n",
    "\n",
    "range_batches=range(1,2);\n",
    "range_images=range(1,101);\n",
    "\n",
    "img_caption_pre=['face_org_40','face_vert_40','face_horz_40'];\n",
    "img_dir=[os.path.join(dir_meta,img_caption_pre_curr,'test_images') for img_caption_pre_curr in img_caption_pre];\n",
    "\n",
    "file_post=['_pred.jpg']\n",
    "# ,'.jpg']\n",
    "# ,'.jpg']\n",
    "out_file_html=os.path.join(dir_meta,'comparison_40')+'.html';\n",
    "print out_file_html.replace(dir_server,'http://vision1.idav.ucdavis.edu:1000')\n",
    "comparativeLossViz(img_dir,file_post,None,range_batches,range_images,out_file_html,dir_server,img_caption_pre);\n"
   ]
  }
 ],
 "metadata": {
  "kernelspec": {
   "display_name": "Python 2",
   "language": "python",
   "name": "python2"
  },
  "language_info": {
   "codemirror_mode": {
    "name": "ipython",
    "version": 2
   },
   "file_extension": ".py",
   "mimetype": "text/x-python",
   "name": "python",
   "nbconvert_exporter": "python",
   "pygments_lexer": "ipython2",
   "version": "2.7.6"
  }
 },
 "nbformat": 4,
 "nbformat_minor": 0
}

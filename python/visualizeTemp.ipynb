{
 "cells": [
  {
   "cell_type": "code",
   "execution_count": 85,
   "metadata": {
    "collapsed": true
   },
   "outputs": [],
   "source": [
    "import numpy as np;\n",
    "import os;\n",
    "import util;\n",
    "import visualize;\n",
    "\n",
    "def comparativeLossViz(img_dirs,file_post,loss_post,range_batches,range_images,out_file_html,dir_server,img_caption_pre=None):\n",
    "    img_files_all=[];\n",
    "    captions_all=[];\n",
    "    if img_caption_pre is not None:\n",
    "        assert len(img_caption_pre)==len(img_dirs);\n",
    "    batch_str=True;\n",
    "    if range_batches is None:\n",
    "        range_batches=range(1);\n",
    "        batch_str=False;\n",
    "    \n",
    "    for batch_num in range_batches:\n",
    "    # range(1,num_batches+1):\n",
    "        for im_num in range_images:\n",
    "            files_curr_list=[];\n",
    "            captions_curr_list=[];\n",
    "            for idx_img_dir,img_dir in enumerate(img_dirs):\n",
    "                if loss_post is None:\n",
    "                    loss_str='';\n",
    "                else:\n",
    "                    loss_all=np.load(os.path.join(img_dir,str(batch_num)+loss_post));\n",
    "                    if im_num>loss_all.shape[0]:\n",
    "                        continue;\n",
    "                    loss_curr=loss_all[im_num-1,0];\n",
    "                    loss_str=\"{:10.4f}\".format(loss_curr);\n",
    "                if not batch_str:\n",
    "                    files_curr=[os.path.join(img_dir,str(im_num)+file_post_curr) for file_post_curr in file_post];\n",
    "                else:\n",
    "                    files_curr=[os.path.join(img_dir,str(batch_num)+'_'+str(im_num)+file_post_curr) for file_post_curr in file_post];\n",
    "                files_curr=[util.getRelPath(file_curr,dir_server) for file_curr in files_curr];\n",
    "                captions_curr=[os.path.split(file_curr)[1]+' '+loss_str for file_curr in files_curr];\n",
    "                if img_caption_pre is not None:\n",
    "                    captions_curr=[img_caption_pre[idx_img_dir]+' '+caption_curr for caption_curr in captions_curr];\n",
    "                files_curr_list.extend(files_curr);\n",
    "                captions_curr_list.extend(captions_curr);\n",
    "            img_files_all.append(files_curr_list);\n",
    "            captions_all.append(captions_curr_list);\n",
    "    visualize.writeHTML(out_file_html,img_files_all,captions_all,224,224);"
   ]
  },
  {
   "cell_type": "code",
   "execution_count": 22,
   "metadata": {
    "collapsed": false
   },
   "outputs": [
    {
     "name": "stdout",
     "output_type": "stream",
     "text": [
      "/home/SSD3/maheen-data/training_5_kp_withWarp_fixed_adam__1e-05/over_time_train.html\n"
     ]
    }
   ],
   "source": [
    "dir_server='/home/SSD3/maheen-data';\n",
    "dir_meta='/home/SSD3/maheen-data/training_5_kp_withWarp_fixed_adam__1e-05'\n",
    "# range_batches=range(1,2);\n",
    "# batch_size=60;\n",
    "range_images=range(1,100);\n",
    "img_dir_meta=os.path.join(dir_meta,'over_time_train');\n",
    "range_models=range(75,5000,75*8);\n",
    "img_dir=[os.path.join(img_dir_meta,str(range_model_curr)) for range_model_curr in range_models]\n",
    "\n",
    "file_post=['_org.jpg','_warp.jpg'];\n",
    "out_file_html=img_dir_meta+'.html';\n",
    "print out_file_html\n",
    "img_caption_pre=[str(model_num) for model_num in range_models];\n",
    "comparativeLossViz(img_dir,file_post,None,None,range_images,out_file_html,dir_server,img_caption_pre)\n"
   ]
  },
  {
   "cell_type": "code",
   "execution_count": 15,
   "metadata": {
    "collapsed": false
   },
   "outputs": [
    {
     "name": "stdout",
     "output_type": "stream",
     "text": [
      "300 2100\n",
      "vision1.idav.ucdavis.edu:1000/temp/tps_train_allKP_adam_noBad_bn/loss.png\n"
     ]
    }
   ],
   "source": [
    "dir_server='/home/SSD3/maheen-data';\n",
    "dir_meta='/home/SSD3/maheen-data/horse_project/tps_train_allKP_adam_noBad'\n",
    "\n",
    "dir_meta='/home/SSD3/maheen-data/temp/tps_train_allKP_adam_noBad_bn'\n",
    "dir_loss=os.path.join(dir_meta,'intermediate');\n",
    "loss_pre='loss_all_';\n",
    "loss_post_val='_val.npy';\n",
    "loss_post_normal='.npy';\n",
    "test_after=30;\n",
    "\n",
    "loss_files=[file_curr for file_curr in os.listdir(dir_loss) if file_curr.startswith(loss_pre)];\n",
    "loss_nums=[int(file_curr[:file_curr.rindex('.')].split('_')[2]) for file_curr in loss_files];\n",
    "print min(loss_nums),max(loss_nums);\n",
    "loss_num=max(loss_nums);\n",
    "loss_file=os.path.join(dir_loss,loss_pre+str(loss_num)+loss_post_normal);\n",
    "loss_file_val=os.path.join(dir_loss,loss_pre+str(loss_num)+loss_post_val);\n",
    "loss=np.load(loss_file);\n",
    "loss_val=np.load(loss_file_val);\n",
    "iter_loss=range(loss.size);\n",
    "iter_val=range(0,loss_val.size*test_after,test_after);\n",
    "loss_val_new=[loss_curr for loss_curr in loss_val if loss_curr<1];\n",
    "iter_val=[loss_curr for idx,loss_curr in enumerate(iter_val) if loss_val[idx]<1];\n",
    "loss_val=loss_val_new;\n",
    "\n",
    "out_file_score=os.path.join(dir_meta,'loss.png');\n",
    "print out_file_score.replace(dir_server,'vision1.idav.ucdavis.edu:1000');\n",
    "visualize.plotSimple([(iter_loss,loss),(iter_val,loss_val)],\\\n",
    "                     out_file_score,title='Score Loss at '+str(iter_loss[-1]),xlabel='Iterations',\\\n",
    "                     ylabel='Loss',legend_entries=['Train','Val'])\n",
    "\n",
    "\n"
   ]
  },
  {
   "cell_type": "code",
   "execution_count": 20,
   "metadata": {
    "collapsed": false
   },
   "outputs": [
    {
     "name": "stdout",
     "output_type": "stream",
     "text": [
      "4720\n",
      "944\n",
      "/home/SSD3/maheen-data/horse_project/horse_resize/matches_5_train_fiveKP_select.txt\n",
      "/home/SSD3/maheen-data/horse_project/aflw/matches_5_train_fiveKP_noIm_select.txt\n"
     ]
    }
   ],
   "source": [
    "import random;\n",
    "# horse_path='/home/SSD3/maheen-data/horse_project/data_check/horse/matches_5_train_allKP.txt';\n",
    "# human_path='/home/SSD3/maheen-data/horse_project/data_check/aflw/matches_5_train_allKP.txt';\n",
    "\n",
    "horse_path = '/home/SSD3/maheen-data/horse_project/horse_resize/matches_5_train_fiveKP.txt';\n",
    "human_path = '/home/SSD3/maheen-data/horse_project/aflw/matches_5_train_fiveKP_noIm.txt';\n",
    "\n",
    "horse_data=util.readLinesFromFile(horse_path);\n",
    "human_data=util.readLinesFromFile(human_path);\n",
    "idx_keep=range(0,len(horse_data),5);\n",
    "print len(horse_data);\n",
    "print len(idx_keep);\n",
    "horse_data=[horse_data[idx] for idx in idx_keep];\n",
    "human_data=[human_data[idx] for idx in idx_keep];\n",
    "shuffle_idx=range(len(horse_data));\n",
    "random.shuffle(shuffle_idx);\n",
    "horse_data=[horse_data[idx] for idx in shuffle_idx];\n",
    "human_data=[human_data[idx] for idx in shuffle_idx];\n",
    "\n",
    "for file_curr,data_curr in [(horse_path,horse_data),(human_path,human_data)]:\n",
    "    out_file_curr=file_curr[:file_curr.rindex('.')]+'_select.txt';\n",
    "    print out_file_curr;\n",
    "    util.writeFile(out_file_curr,data_curr);\n",
    "    \n",
    "\n",
    "\n",
    "\n",
    "\n",
    "\n"
   ]
  },
  {
   "cell_type": "code",
   "execution_count": 21,
   "metadata": {
    "collapsed": false
   },
   "outputs": [
    {
     "name": "stdout",
     "output_type": "stream",
     "text": [
      "[75, 675, 1275, 1875, 2475, 3075, 3675, 4275, 4875]\n",
      "/home/SSD3/maheen-data/training_5_kp_withWarp_fixed_adam__1e-05/over_time_train.sh\n"
     ]
    }
   ],
   "source": [
    "# path_models='/home/SSD3/maheen-data/training_5_kp_withWarp_fixed_adam__1e-05/intermediate/'\n",
    "dir_meta='/home/SSD3/maheen-data/training_5_kp_withWarp_fixed_adam__1e-05'\n",
    "path_to_models=os.path.join(dir_meta,'intermediate')\n",
    "out_dir_meta=os.path.join(dir_meta,'over_time_train');\n",
    "util.mkdir(out_dir_meta);\n",
    "\n",
    "model_pre=os.path.join(path_to_models,'model_all_');\n",
    "model_post='.dat'\n",
    "range_models=range(75,5000,75*8);\n",
    "print range_models\n",
    "\n",
    "path_to_th='/home/maheenrashid/Downloads/horses/torch/test_xiuye.th';\n",
    "out_file_sh=out_dir_meta+'.sh'\n",
    "commands=[];\n",
    "for model_idx,model_num in enumerate(range_models):\n",
    "    model_curr=model_pre+str(model_num)+model_post;\n",
    "    assert os.path.exists(model_curr);\n",
    "    out_dir_curr=os.path.join(out_dir_meta,str(model_num));\n",
    "    command=['th',path_to_th];\n",
    "    command.extend(['-kp_net_file',model_curr]);\n",
    "    command.extend(['out_dir',out_dir_curr]);\n",
    "    command=' '.join(command);\n",
    "    commands.append(command);\n",
    "# print commands\n",
    "util.writeFile(out_file_sh,commands)\n",
    "print out_file_sh\n",
    "    \n",
    "\n"
   ]
  },
  {
   "cell_type": "code",
   "execution_count": 6,
   "metadata": {
    "collapsed": false
   },
   "outputs": [
    {
     "name": "stdout",
     "output_type": "stream",
     "text": [
      "http://vision1.idav.ucdavis.edu:1000/temp/tps_train_allKP_adam_noBad_bn/test_viz.html\n"
     ]
    }
   ],
   "source": [
    "dir_server='/home/SSD3/maheen-data';\n",
    "dir_meta='/home/SSD3/maheen-data/temp/tps_train_allKP_adam_noBad_bn/'\n",
    "range_batches=range(1,2);\n",
    "# batch_size=60;\n",
    "range_images=range(1,94);\n",
    "img_dir=[os.path.join(dir_meta,'test_viz')];\n",
    "# range_models=range(75,5000,75*8);\n",
    "# img_dir=[os.path.join(img_dir_meta,str(range_model_curr)) for range_model_curr in range_models]\n",
    "\n",
    "file_post=['_horse.jpg','_gtwarp.jpg','_predwarp.jpg'];\n",
    "out_file_html=img_dir[0]+'.html';\n",
    "print out_file_html.replace(dir_server,'http://vision1.idav.ucdavis.edu:1000')\n",
    "# img_caption_pre=[str(model_num) for model_num in range_models];\n",
    "comparativeLossViz(img_dir,file_post,None,range_batches,range_images,out_file_html,dir_server,None);\n",
    "\n",
    "# comparativeLossViz(img_dirs,file_post,loss_post,range_batches,range_images,out_file_html,dir_server,img_caption_pre=None)"
   ]
  },
  {
   "cell_type": "code",
   "execution_count": 32,
   "metadata": {
    "collapsed": false
   },
   "outputs": [
    {
     "name": "stdout",
     "output_type": "stream",
     "text": [
      "http://vision1.idav.ucdavis.edu:1000/horse_project/ft_horse_allKp_gtWarp_halfBack_1e-3/comparison_withFT.html\n"
     ]
    }
   ],
   "source": [
    "dir_server='/home/SSD3/maheen-data';\n",
    "dir_meta='/home/SSD3/maheen-data/horse_project/ft_horse_allKp_gtWarp_halfBack_1e-2/debug'\n",
    "dir_meta='/home/SSD3/maheen-data/horse_project/ft_horse_allKp_gtWarp_halfBack_1e-4'\n",
    "\n",
    "dir_meta='/home/SSD3/maheen-data/horse_project/ft_horse_allKp_gtWarp_halfBack_1e-3';\n",
    "# /1064/test_images/log_test.txt  /home/SSD3/maheen-data/horse_project/ft_horse_allKp_gtWarp_halfBack_1e-3/560/test_images/log_test.txt\n",
    "# /home/SSD3/maheen-data/horse_project/ft_horse_allKp_gtWarp_halfBack_1e-3/1680/test_images/log_test.txt  /home/SSD3/maheen-data/horse_project/ft_horse_allKp_gtWarp_halfBack_1e-3/final/test_images/log_test.txt\n",
    "\n",
    "range_batches=range(1,2);\n",
    "# [5,10];\n",
    "# batch_size=60;\n",
    "range_images=range(1,101);\n",
    "# img_dir=[dir_meta];\n",
    "\n",
    "# img_caption_pre=['final','1680','1064','560'];\n",
    "img_caption_pre=['1680','ft_orglr_20epoch'];\n",
    "img_dir=[os.path.join(dir_meta,img_caption_pre_curr,'test_images') for img_caption_pre_curr in img_caption_pre];\n",
    "\n",
    "# range_models=range(75,5000,75*8);\n",
    "# img_dir=[os.path.join(img_dir_meta,str(range_model_curr)) for range_model_curr in range_models]\n",
    "\n",
    "# file_post=['_gt.jpg','_gtwarp.jpg'];\n",
    "file_post=['_org.jpg']\n",
    "# ,'.jpg']\n",
    "# ,'.jpg']\n",
    "out_file_html=os.path.join(dir_meta,'comparison_withFT')+'.html';\n",
    "print out_file_html.replace(dir_server,'http://vision1.idav.ucdavis.edu:1000')\n",
    "# img_caption_pre=[str(model_num) for model_num in range_models];\n",
    "comparativeLossViz(img_dir,file_post,None,range_batches,range_images,out_file_html,dir_server,img_caption_pre);\n"
   ]
  },
  {
   "cell_type": "code",
   "execution_count": 29,
   "metadata": {
    "collapsed": false
   },
   "outputs": [
    {
     "name": "stdout",
     "output_type": "stream",
     "text": [
      "http://vision1.idav.ucdavis.edu:1000/temp/distorted_humans/comparison_40.html\n"
     ]
    }
   ],
   "source": [
    "dir_server='/home/SSD3/maheen-data';\n",
    "dir_meta='/home/SSD3/maheen-data/temp/distorted_humans'\n",
    "\n",
    "range_batches=range(1,2);\n",
    "range_images=range(1,101);\n",
    "\n",
    "img_caption_pre=['face_org_40','face_vert_40','face_horz_40'];\n",
    "img_dir=[os.path.join(dir_meta,img_caption_pre_curr,'test_images') for img_caption_pre_curr in img_caption_pre];\n",
    "\n",
    "file_post=['_pred.jpg']\n",
    "# ,'.jpg']\n",
    "# ,'.jpg']\n",
    "out_file_html=os.path.join(dir_meta,'comparison_40')+'.html';\n",
    "print out_file_html.replace(dir_server,'http://vision1.idav.ucdavis.edu:1000')\n",
    "comparativeLossViz(img_dir,file_post,None,range_batches,range_images,out_file_html,dir_server,img_caption_pre);\n"
   ]
  },
  {
   "cell_type": "code",
   "execution_count": 4,
   "metadata": {
    "collapsed": false
   },
   "outputs": [
    {
     "name": "stdout",
     "output_type": "stream",
     "text": [
      "http://vision1.idav.ucdavis.edu:1000/horse_project/ft_horse_allKp_gtWarp_halfBack_1e-3/1680.html\n"
     ]
    }
   ],
   "source": [
    "dir_server='/home/SSD3/maheen-data';\n",
    "dir_meta='/home/SSD3/maheen-data/horse_project/ft_horse_allKp_gtWarp_halfBack_1e-3'\n",
    "\n",
    "range_batches=range(1,2);\n",
    "range_images=range(1,101);\n",
    "\n",
    "img_caption_pre=['1680'];\n",
    "img_dir=[os.path.join(dir_meta,img_caption_pre_curr,'test_images') for img_caption_pre_curr in img_caption_pre];\n",
    "\n",
    "file_post=['.jpg','_org.jpg']\n",
    "# ,'.jpg']\n",
    "# ,'.jpg']\n",
    "out_file_html=os.path.join(dir_meta,'1680')+'.html';\n",
    "print out_file_html.replace(dir_server,'http://vision1.idav.ucdavis.edu:1000')\n",
    "comparativeLossViz(img_dir,file_post,None,range_batches,range_images,out_file_html,dir_server,img_caption_pre);\n",
    "\n",
    "\n"
   ]
  },
  {
   "cell_type": "code",
   "execution_count": 10,
   "metadata": {
    "collapsed": false
   },
   "outputs": [
    {
     "name": "stdout",
     "output_type": "stream",
     "text": [
      "64 64\n"
     ]
    }
   ],
   "source": [
    "import util;\n",
    "\n",
    "horse_data_path='/home/SSD3/maheen-data/horse_project/data_check/horse/matches_5_train_allKP_minLoss.txt';\n",
    "human_data_path='/home/SSD3/maheen-data/horse_project/data_check/aflw/matches_5_train_allKP_minLoss.txt';\n",
    "\n",
    "out_file_horse='/home/SSD3/maheen-data/horse_project/data_check/horse/matches_5_train_allKP_minLoss_dummy.txt';\n",
    "out_file_human='/home/SSD3/maheen-data/horse_project/data_check/aflw/matches_5_train_allKP_minLoss_dummy.txt';\n",
    "\n",
    "horse_data=util.readLinesFromFile(horse_data_path);\n",
    "human_data=util.readLinesFromFile(human_data_path);\n",
    "batch_size=64;\n",
    "problem_batch=13-1;\n",
    "\n",
    "start_idx=problem_batch*batch_size;\n",
    "end_idx=(problem_batch+1)*batch_size\n",
    "horse_batch_curr=horse_data[start_idx:end_idx];\n",
    "human_batch_curr=human_data[start_idx:end_idx];\n",
    "print len(horse_batch_curr),len(human_batch_curr);\n",
    "\n",
    "util.writeFile(out_file_horse,horse_batch_curr)\n",
    "util.writeFile(out_file_human,human_batch_curr);"
   ]
  },
  {
   "cell_type": "code",
   "execution_count": 40,
   "metadata": {
    "collapsed": false
   },
   "outputs": [
    {
     "name": "stdout",
     "output_type": "stream",
     "text": [
      "/home/SSD3/maheen-data/horse_project/temp/debug_gtWarp/test_images\n",
      "http://vision1.idav.ucdavis.edu:1000/horse_project/temp/debug_gtWarp/train_check.html\n"
     ]
    }
   ],
   "source": [
    "import util;\n",
    "import numpy as np;\n",
    "import os;\n",
    "import cv2;\n",
    "import visualize;\n",
    "\n",
    "def saveImWithAnno(im_path,npy_path,out_path):\n",
    "    im=cv2.imread(im_path,1);\n",
    "    # im=cv2.res tiize(im,(224,224));\n",
    "    label=np.load(npy_path).astype(np.int);\n",
    "    x=label[:,0];\n",
    "    y=label[:,1];\n",
    "    color=(0,0,255);\n",
    "    colors=[(0,0,255),(0,255,0),(255,0,0),(255,255,0),(0,255,255)]\n",
    "\n",
    "    for label_idx in range(len(x)):\n",
    "        if label[label_idx,2]>0:\n",
    "            cv2.circle(im,(x[label_idx],y[label_idx]),5,colors[label_idx],-1);\n",
    "    cv2.imwrite(out_path,im);\n",
    "\n",
    "dir_server='/home/SSD3/maheen-data';\n",
    "click_str='http://vision1.idav.ucdavis.edu:1000'\n",
    "out_file_horse='/home/SSD3/maheen-data/horse_project/data_check/horse/matches_5_train_allKP_minLoss.txt';\n",
    "out_file_human='/home/SSD3/maheen-data/horse_project/data_check/aflw/matches_5_train_allKP_minLoss.txt';\n",
    "\n",
    "# out_file_horse='/home/SSD3/maheen-data/horse_project/data_check/horse/matches_5_val_allKP_minLoss.txt';\n",
    "# out_file_human='/home/SSD3/maheen-data/horse_project/data_check/aflw/matches_5_val_allKP_minLoss.txt';\n",
    "\n",
    "out_dir_meta=os.path.join(dir_server,'horse_project/temp/debug_gtWarp');\n",
    "\n",
    "out_dir_test_images=os.path.join(out_dir_meta,'test_images');\n",
    "out_file_plot=os.path.join(out_dir_test_images,'loss_plot.jpg');\n",
    "loss_file=os.path.join(out_dir_test_images,'loss_final_val_ind.npy');\n",
    "\n",
    "print out_dir_test_images;\n",
    "horse_data=util.readLinesFromFile(out_file_horse);\n",
    "human_data=util.readLinesFromFile(out_file_human)\n",
    "\n",
    "loss=np.load(loss_file);\n",
    "\n",
    "\n",
    "\n",
    "idx_sort=np.argsort(loss);\n",
    "idx_sort=idx_sort[::-1];\n",
    "idx_sort=idx_sort[:100];\n",
    "losses_sorted=loss[idx_sort];\n",
    "batch_size=100;\n",
    "\n",
    "\n",
    "visualize.plotSimple([(range(losses_sorted.size),losses_sorted)],\\\n",
    "                     out_file_plot,title='Losses',xlabel='Index',ylabel='Loss');\n",
    "\n",
    "ordered_pres=[];\n",
    "\n",
    "for idx_idx,idx_prob in enumerate(idx_sort):\n",
    "    horse_im,horse_npy=horse_data[idx_prob].split(' ');\n",
    "    human_im,human_npy=human_data[idx_prob].split(' ');\n",
    "    batch_num=idx_prob/batch_size;\n",
    "    batch_num=batch_num+1;\n",
    "    im_num=(idx_prob%batch_size)+1;\n",
    "    str_im=str(batch_num)+'_'+str(im_num)\n",
    "    out_file_pre=os.path.join(out_dir_test_images,str_im);\n",
    "    saveImWithAnno(horse_im,horse_npy,out_file_pre+'_horse_gt.jpg');\n",
    "    saveImWithAnno(human_im,human_npy,out_file_pre+'_human_gt.jpg');\n",
    "    ordered_pres.append(out_file_pre);\n",
    "\n",
    "    \n",
    "out_file_html=os.path.join(out_dir_meta,'train_check.html');\n",
    "out_file_record=os.path.join(out_dir_meta,'train_pairs.txt');\n",
    "img_paths=[];\n",
    "captions=[];\n",
    "human_horse_pairs=[];\n",
    "posts=['_horse_gt','_human_gt','','_org'];\n",
    "for idx_curr,file_curr in enumerate(ordered_pres):\n",
    "    img_row_curr=[util.getRelPath(file_curr+post_curr+'.jpg',dir_server) for post_curr in posts];\n",
    "    caption_row_curr=[str(losses_sorted[idx_curr])[:7]+' '+post_curr for post_curr in posts]\n",
    "    img_paths.append(img_row_curr);\n",
    "    captions.append(caption_row_curr);\n",
    "    \n",
    "    human_horse_curr=[file_curr+post_curr+'.jpg' for post_curr in posts[:2]];\n",
    "    human_horse_curr=' '.join(human_horse_curr);\n",
    "    human_horse_pairs.append(human_horse_curr);\n",
    "    \n",
    "    if losses_sorted[idx_curr]<0.05:\n",
    "        break;\n",
    "\n",
    "\n",
    "visualize.writeHTML(out_file_html,img_paths,captions);\n",
    "print out_file_html.replace(dir_server,click_str);\n",
    "\n",
    "util.writeFile(out_file_record,human_horse_pairs);\n"
   ]
  },
  {
   "cell_type": "code",
   "execution_count": 72,
   "metadata": {
    "collapsed": false
   },
   "outputs": [
    {
     "name": "stdout",
     "output_type": "stream",
     "text": [
      "/home/SSD3/maheen-data/horse_project/temp/debug_gtWarp/test_images\n",
      "3546 3531\n",
      "http://vision1.idav.ucdavis.edu:1000/horse_project/temp/debug_gtWarp/check.html\n"
     ]
    }
   ],
   "source": [
    "import util;\n",
    "import numpy as np;\n",
    "import os;\n",
    "import cv2;\n",
    "import visualize;\n",
    "\n",
    "def saveImWithAnno(im_path,npy_path,out_path):\n",
    "    im=cv2.imread(im_path,1);\n",
    "    # im=cv2.res tiize(im,(224,224));\n",
    "    label=np.load(npy_path).astype(np.int);\n",
    "    x=label[:,0];\n",
    "    y=label[:,1];\n",
    "    color=(0,0,255);\n",
    "    colors=[(0,0,255),(0,255,0),(255,0,0),(255,255,0),(0,255,255)]\n",
    "\n",
    "    for label_idx in range(len(x)):\n",
    "        if label[label_idx,2]>0:\n",
    "            cv2.circle(im,(x[label_idx],y[label_idx]),5,colors[label_idx],-1);\n",
    "    cv2.imwrite(out_path,im);\n",
    "\n",
    "def getImNumAndCheck(dir_curr):\n",
    "    txt_files=[file_curr for file_curr in os.listdir(dir_curr) if file_curr.endswith('.txt')];\n",
    "    content=[int(util.readLinesFromFile(os.path.join(dir_curr,file_curr))[0]) for file_curr in txt_files];\n",
    "    content=np.array(content);\n",
    "    im_nums=[file_curr[:file_curr.rindex('.')] for file_curr in txt_files];\n",
    "    im_nums=np.array(im_nums);\n",
    "    return im_nums,content;\n",
    "    \n",
    "dir_server='/home/SSD3/maheen-data';\n",
    "click_str='http://vision1.idav.ucdavis.edu:1000'\n",
    "out_dir_meta=os.path.join(dir_server,'horse_project/temp/debug_gtWarp');\n",
    "\n",
    "out_file_horse='/home/SSD3/maheen-data/horse_project/data_check/horse/matches_5_train_allKP_minLoss.txt';\n",
    "out_file_human='/home/SSD3/maheen-data/horse_project/data_check/aflw/matches_5_train_allKP_minLoss_noIm.txt';\n",
    "out_dir_test_images=os.path.join(out_dir_meta,'test_images');\n",
    "dir_check_txt=os.path.join(out_dir_meta,'train_pairs_val_no_val');\n",
    "\n",
    "# out_file_horse='/home/SSD3/maheen-data/horse_project/data_check/horse/matches_5_val_allKP_minLoss.txt';\n",
    "# out_file_human='/home/SSD3/maheen-data/horse_project/data_check/aflw/matches_5_val_allKP_minLoss_noIm.txt';\n",
    "# out_dir_test_images=os.path.join(out_dir_meta,'test_images_val');\n",
    "# dir_check_txt=os.path.join(out_dir_meta,'test_pairs_val_no_val');\n",
    "\n",
    "\n",
    "out_file_horse_clean=out_file_horse[:out_file_horse.rindex('.')]+'_clean.txt';\n",
    "out_file_human_clean=out_file_human[:out_file_human.rindex('.')]+'_clean.txt';\n",
    "\n",
    "out_file_plot=os.path.join(out_dir_test_images,'loss_plot.jpg');\n",
    "loss_file=os.path.join(out_dir_test_images,'loss_final_val_ind.npy');\n",
    "\n",
    "\n",
    "\n",
    "\n",
    "\n",
    "# out_file_horse='/home/SSD3/maheen-data/horse_project/data_check/horse/matches_5_val_allKP_minLoss.txt';\n",
    "# out_file_human='/home/SSD3/maheen-data/horse_project/data_check/aflw/matches_5_val_allKP_minLoss.txt';\n",
    "\n",
    "\n",
    "im_nums,content = getImNumAndCheck(dir_check_txt);\n",
    "im_nums = im_nums[content==2];\n",
    "\n",
    "print out_dir_test_images;\n",
    "horse_data=util.readLinesFromFile(out_file_horse);\n",
    "human_data=util.readLinesFromFile(out_file_human)\n",
    "\n",
    "loss=np.load(loss_file);\n",
    "\n",
    "idx_sort=np.argsort(loss);\n",
    "idx_sort=idx_sort[::-1];\n",
    "idx_sort=idx_sort[:100];\n",
    "losses_sorted=loss[idx_sort];\n",
    "batch_size=100;\n",
    "\n",
    "img_path_pairs=[];\n",
    "captions=[];\n",
    "problem_idx=[];\n",
    "for im_num in im_nums:\n",
    "    im_num_split=im_num.split('_');\n",
    "    \n",
    "    batch_num=int(im_num_split[0]);\n",
    "\n",
    "    d=(batch_num-1)*batch_size;\n",
    "    rem=int(im_num_split[1]);\n",
    "    idx_num=d+rem;\n",
    "    idx_num=idx_num-1;\n",
    "    def_path=os.path.join(out_dir_test_images,im_num+'.jpg');\n",
    "    n_def_path=horse_data[idx_num].split(' ')[0];\n",
    "    imgs_curr=[def_path,n_def_path];\n",
    "    img_path_pairs.append([util.getRelPath(file_curr,dir_server) for file_curr in imgs_curr]);\n",
    "    captions.append([os.path.split(file_curr)[1]+' '+str(idx_num) for file_curr in imgs_curr])\n",
    "    problem_idx.append(idx_num);\n",
    "\n",
    "old_data=zip(horse_data,human_data);\n",
    "new_data=[old_data[idx] for idx in range(len(horse_data)) if idx not in problem_idx];\n",
    "horse_data_new,human_data_new=zip(*new_data);\n",
    "print len(horse_data),len(horse_data_new);\n",
    "\n",
    "out_file_html=os.path.join(out_dir_meta,'check.html');\n",
    "visualize.writeHTML(out_file_html,img_path_pairs,captions);\n",
    "print out_file_html.replace(dir_server,click_str);\n",
    "\n",
    "util.writeFile(out_file_horse_clean,horse_data_new);\n",
    "util.writeFile(out_file_human_clean,human_data_new);\n"
   ]
  },
  {
   "cell_type": "code",
   "execution_count": 84,
   "metadata": {
    "collapsed": false
   },
   "outputs": [
    {
     "name": "stdout",
     "output_type": "stream",
     "text": [
      "17494 3531 17537\n",
      "(17494,)\n",
      "17537 17494\n",
      "/home/SSD3/maheen-data/horse_project/data_check/horse/matches_5_train_allKP.txt /home/SSD3/maheen-data/horse_project/data_check/horse/matches_5_train_allKP_minLoss_clean_full.txt\n",
      "17537 17494\n",
      "/home/SSD3/maheen-data/horse_project/data_check/aflw/matches_5_train_allKP.txt /home/SSD3/maheen-data/horse_project/data_check/aflw/matches_5_train_allKP_minLoss_clean_full.txt\n",
      "17537 17494\n",
      "/home/SSD3/maheen-data/horse_project/data_check/aflw/matches_5_train_allKP_noIm.txt /home/SSD3/maheen-data/horse_project/data_check/aflw/matches_5_train_allKP_minLoss_noIm_clean_full.txt\n"
     ]
    }
   ],
   "source": [
    "import util;\n",
    "import os;\n",
    "import numpy as np;\n",
    "\n",
    "horse_dir='/home/SSD3/maheen-data/horse_project/data_check/horse';\n",
    "human_dir='/home/SSD3/maheen-data/horse_project/data_check/aflw';\n",
    "\n",
    "clean_name=['matches_5_train_allKP_minLoss_clean.txt','matches_5_train_allKP_minLoss_noIm_clean.txt'];\n",
    "org_name=['matches_5_train_allKP.txt','matches_5_train_allKP_noIm.txt'];\n",
    "new_name=[clean_name_curr[:clean_name_curr.rindex('.')]+'_full.txt' for clean_name_curr in clean_name];\n",
    "\n",
    "\n",
    "org_data=util.readLinesFromFile(os.path.join(horse_dir,org_name[0]));\n",
    "clean_data=util.readLinesFromFile(os.path.join(horse_dir,clean_name[0]));\n",
    "clean_data=np.array(clean_data);\n",
    "org_data=np.array(org_data);\n",
    "index_new=np.in1d(org_data,clean_data);\n",
    "print np.sum(index_new),len(clean_data),len(org_data);\n",
    "index_new=np.where(index_new)[0]\n",
    "print index_new.shape;\n",
    "\n",
    "for dir_curr in [horse_dir,human_dir]:\n",
    "    for idx_curr in range(len(org_name)):\n",
    "        in_file=os.path.join(dir_curr,org_name[idx_curr])\n",
    "        if not os.path.exists(in_file):\n",
    "            continue;\n",
    "        org_data=util.readLinesFromFile(in_file);\n",
    "        new_data=[org_data[idx_select] for idx_select in index_new];\n",
    "        print len(org_data),len(new_data);\n",
    "        out_file=os.path.join(dir_curr,new_name[idx_curr]);\n",
    "        util.writeFile(out_file,new_data);\n",
    "        print in_file,out_file;"
   ]
  },
  {
   "cell_type": "code",
   "execution_count": 87,
   "metadata": {
    "collapsed": false
   },
   "outputs": [
    {
     "name": "stdout",
     "output_type": "stream",
     "text": [
      "http://vision1.idav.ucdavis.edu:1000/temp/checkRotation/check.html\n"
     ]
    }
   ],
   "source": [
    "img_dirs=['/home/SSD3/maheen-data/temp/checkRotation'];\n",
    "file_post=['_horse.jpg','_human.jpg'];\n",
    "loss_post=None;\n",
    "range_batches=[1];\n",
    "range_images=range(1,4);\n",
    "out_file_html=os.path.join(img_dirs[0],'check.html');\n",
    "dir_server='/home/SSD3/maheen-data';\n",
    "\n",
    "\n",
    "comparativeLossViz(img_dirs,file_post,loss_post,range_batches,range_images,out_file_html,dir_server);\n",
    "print out_file_html.replace(dir_server,'http://vision1.idav.ucdavis.edu:1000');"
   ]
  }
 ],
 "metadata": {
  "kernelspec": {
   "display_name": "Python 2",
   "language": "python",
   "name": "python2"
  },
  "language_info": {
   "codemirror_mode": {
    "name": "ipython",
    "version": 2
   },
   "file_extension": ".py",
   "mimetype": "text/x-python",
   "name": "python",
   "nbconvert_exporter": "python",
   "pygments_lexer": "ipython2",
   "version": "2.7.6"
  }
 },
 "nbformat": 4,
 "nbformat_minor": 0
}

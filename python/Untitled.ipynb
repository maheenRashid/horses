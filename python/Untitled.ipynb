{
 "cells": [
  {
   "cell_type": "code",
   "execution_count": 42,
   "metadata": {
    "collapsed": false
   },
   "outputs": [
    {
     "name": "stdout",
     "output_type": "stream",
     "text": [
      "horse /home/SSD3/maheen-data/horse_project/data_check/horse/im/_04_Aug16_png/horse+head216.jpg /home/SSD3/maheen-data/horse_project/data_check/horse/im/_04_Aug16_png/horse+head262.jpg\n",
      "0\n",
      "0\n",
      "face /home/SSD3/maheen-data/horse_project/data_check/aflw/im/0/image18117_16774.jpg /home/SSD3/maheen-data/horse_project/data_check/aflw/im/3/image00280_0.jpg\n",
      "0\n",
      "0\n",
      "horse match, horse pairs /home/SSD3/maheen-data/horse_project/data_check/horse/im/_04_Aug16_png/horse+head216.jpg /home/SSD3/maheen-data/horse_project/data_check/horse/im/_04_Aug16_png/horse+head262.jpg\n",
      "0\n",
      "0\n",
      "3596\n",
      "3795\n"
     ]
    }
   ],
   "source": [
    "import visualize;\n",
    "import util;\n",
    "import os;\n",
    "import random;\n",
    "def getOverlap(train_file,val_file):\n",
    "    train_lines_org=util.readLinesFromFile(train_file);\n",
    "    train_lines=[line_curr[:line_curr.index(' ')] for line_curr in train_lines_org];\n",
    "    val_lines_org=util.readLinesFromFile(val_file);\n",
    "    val_lines=[line_curr[:line_curr.index(' ')] for line_curr in val_lines_org];\n",
    "    print train_lines[0],val_lines[0];\n",
    "    overlap=[(val_lines.index(line_curr),idx,line_curr) for idx,line_curr in enumerate(train_lines) if line_curr in val_lines];\n",
    "    print len(overlap);\n",
    "#     for idx_idx,idx,line_curr in overlap:\n",
    "#         print train_lines_org[idx]\n",
    "#         print val_lines_org[idx_idx];\n",
    "    \n",
    "    return len(overlap);\n",
    "# horse\n",
    "\n",
    "val_data_path = '/home/SSD3/maheen-data/horse_project/data_check/horse/pairs_val.txt';\n",
    "data_path = '/home/SSD3/maheen-data/horse_project/data_check/horse/pairs.txt';\n",
    "print 'horse',getOverlap(data_path,val_data_path);\n",
    "\n",
    "# face\n",
    "val_data_path = '/home/SSD3/maheen-data/horse_project/data_check/aflw/pairs_val.txt';\n",
    "data_path = '/home/SSD3/maheen-data/data_face_network/aflw_cvpr_train.txt';\n",
    "print 'face',getOverlap(data_path,val_data_path);\n",
    "\n",
    "# \n",
    "matches_path='/home/SSD3/maheen-data/horse_project/data_check/horse/matches_5_train_allKP.txt';\n",
    "data_path='/home/SSD3/maheen-data/horse_project/data_check/horse/pairs_val.txt';\n",
    "print 'horse match, horse pairs',getOverlap(matches_path,data_path);\n",
    "\n",
    "data_all_path='/home/SSD3/maheen-data/horse_project/data_check/horse/pairs_all.txt';\n",
    "data_train_path='/home/SSD3/maheen-data/horse_project/data_check/horse/pairs.txt';\n",
    "data_val_path='/home/SSD3/maheen-data/horse_project/data_check/horse/pairs_val.txt';\n",
    "\n",
    "lines=util.readLinesFromFile(data_train_path);\n",
    "print len(lines);\n",
    "lines=lines+util.readLinesFromFile(data_val_path);\n",
    "print len(lines);\n",
    "random.shuffle(lines);\n",
    "\n",
    "util.writeFile(data_all_path,lines);\n",
    "\n",
    "\n",
    "    "
   ]
  },
  {
   "cell_type": "code",
   "execution_count": null,
   "metadata": {
    "collapsed": true
   },
   "outputs": [],
   "source": []
  },
  {
   "cell_type": "code",
   "execution_count": 13,
   "metadata": {
    "collapsed": false
   },
   "outputs": [
    {
     "name": "stdout",
     "output_type": "stream",
     "text": [
      "http://vision1.idav.ucdavis.edu:1000/temp/debug_aflw_40_vanilla_selected_drop_smooth_vanilla/comparison.html\n"
     ]
    }
   ],
   "source": [
    "import visualize;\n",
    "import util;\n",
    "import os;\n",
    "\n",
    "dir_server='/home/SSD3/maheen-data'\n",
    "debug_folder='/home/SSD3/maheen-data/temp/debug_aflw_40_vanilla_selected_drop_smooth_vanilla';\n",
    "dirs=[os.path.join(debug_folder,'viz_vanilla_original'),os.path.join(debug_folder,'viz_vanilla_legacy')];\n",
    "im_num=range(1,65);\n",
    "out_file_html=os.path.join(debug_folder,'comparison.html');\n",
    "\n",
    "img_paths=[];\n",
    "captions=[];\n",
    "cap_list=['','Original mean','Aflw mean']\n",
    "for i in im_num:\n",
    "    ims=[os.path.join(dir_curr,str(i)+'_pred.png') for dir_curr in dirs];\n",
    "#     print ims[0],util.getRelPath(ims[0],dir_server);\n",
    "    ims=[os.path.join(dirs[0],str(i)+'_gt.png')]+ims;\n",
    "    captions_curr=cap_list[:];\n",
    "    captions_curr[0]=os.path.split(ims[0])[1]+' '+captions_curr[0];\n",
    "    \n",
    "    ims=[util.getRelPath(im_curr,dir_server) for im_curr in ims]\n",
    "    img_paths.append(ims);\n",
    "    captions.append(captions_curr);\n",
    "\n",
    "visualize.writeHTML(out_file_html,img_paths,captions)\n",
    "print out_file_html.replace(dir_server,'http://vision1.idav.ucdavis.edu:1000');\n",
    "    \n",
    "\n",
    "    "
   ]
  },
  {
   "cell_type": "code",
   "execution_count": 22,
   "metadata": {
    "collapsed": false
   },
   "outputs": [
    {
     "name": "stdout",
     "output_type": "stream",
     "text": [
      "0\n"
     ]
    }
   ],
   "source": [
    "import util\n",
    "\n",
    "val_file='/home/SSD3/maheen-data/horse_project/data_check/horse/pairs_val.txt'\n",
    "train_file='/home/SSD3/maheen-data/horse_project/data_check/horse/pairs.txt'\n",
    "val_lines=util.readLinesFromFile(val_file);\n",
    "train_lines=util.readLinesFromFile(train_file);\n",
    "x=[line_curr for line_curr in train_lines if line_curr in val_lines];\n",
    "print len(x);"
   ]
  },
  {
   "cell_type": "code",
   "execution_count": 31,
   "metadata": {
    "collapsed": false
   },
   "outputs": [
    {
     "name": "stdout",
     "output_type": "stream",
     "text": [
      "http://vision1.idav.ucdavis.edu:1000/temp/vanilla_train_horse_bn_hlr_longer/test_results.html\n"
     ]
    }
   ],
   "source": [
    "import visualize;\n",
    "import util;\n",
    "import os;\n",
    "\n",
    "dir_server='/home/SSD3/maheen-data'\n",
    "# out_dir='/home/SSD3/maheen-data/temp/debug_aflw_40_vanilla_selected_drop_smooth_vanilla/viz_data_aflw_check';\n",
    "# out_dir='/home/SSD3/maheen-data/temp/vanilla_train_horse_bn_scratch/viz_res';\n",
    "dir_meta='/home/SSD3/maheen-data/temp/vanilla_train_horse_bn_hlr_longer'\n",
    "out_dir=os.path.join(dir_meta,'viz_res');\n",
    "out_file_html=os.path.join(dir_meta,'test_results.html');\n",
    "\n",
    "im_rows=[];\n",
    "captions=[];\n",
    "for b_num in range(1,3):\n",
    "    for im_num in range(1,101):\n",
    "        gt_path=os.path.join(out_dir,str(b_num)+'_'+str(im_num)+'_gt.png');\n",
    "        pred_path=os.path.join(out_dir,str(b_num)+'_'+str(im_num)+'_pred.png');\n",
    "        im_row=[util.getRelPath(gt_path,dir_server),util.getRelPath(pred_path,dir_server)];\n",
    "        caption_row=[os.path.split(gt_path)[1],os.path.split(pred_path)[1]];\n",
    "        im_rows.append(im_row);\n",
    "        captions.append(caption_row);\n",
    "    \n",
    "visualize.writeHTML(out_file_html,im_rows,captions,224,224);\n",
    "print out_file_html.replace(dir_server,'http://vision1.idav.ucdavis.edu:1000');\n",
    "# print out_dir.replace(dir_server,'http://vision1.idav.ucdavis.edu:1000')+out_dir[out_dir.rindex('/'):]+'.html';"
   ]
  },
  {
   "cell_type": "code",
   "execution_count": 1,
   "metadata": {
    "collapsed": false
   },
   "outputs": [
    {
     "name": "stdout",
     "output_type": "stream",
     "text": [
      "[  2.82807518e-02   3.98612693e-02   6.00052299e-03   7.79782608e-03\n",
      "   2.67954380e-03   4.53645177e-02   3.80197330e-03   4.97510051e-03\n",
      "   8.41948483e-03   3.60272266e-03   1.03936754e-02   4.13508154e-03\n",
      "   1.54484222e-02   7.83763081e-03   1.47982156e-02   6.16688188e-03\n",
      "   3.50402631e-02   1.21937878e-02   3.90919112e-02   4.70925914e-03\n",
      "   1.08418148e-02   7.14920089e-02   2.35430221e-03   3.87867494e-03\n",
      "   2.81565054e-03   3.37563865e-02   2.58818991e-03   2.07564142e-02\n",
      "   3.87559412e-03   1.19315423e-02   7.13581517e-02   5.14696129e-02\n",
      "   1.43021578e-02   1.85679197e-02   1.22895977e-02   2.02519000e-02\n",
      "   4.21672035e-03   2.70366319e-03   2.05259118e-03   4.91067069e-03\n",
      "   1.11455908e-02   1.27683533e-02   2.56232321e-02   8.89395457e-03\n",
      "   1.78908762e-02   5.90723800e-03   9.48963687e-03   4.88953665e-03\n",
      "   1.36062607e-01   1.05763990e-02   1.23815536e-01   2.68425364e-02\n",
      "   3.74384434e-03   2.54436899e-02   3.76533903e-03   1.64483041e-02\n",
      "   4.79858741e-03   2.21729428e-02   5.93819423e-03   1.27122179e-02\n",
      "   1.07335122e-02   1.19756602e-01   5.47531471e-02   6.81528077e-02\n",
      "   3.58220451e-02   5.10355737e-03   1.05695976e-02   9.07773852e-01\n",
      "   1.83408055e-02   1.49642169e-01   1.85084417e-02   8.64125043e-03\n",
      "   5.80811501e-03   3.82400397e-03   8.87996703e-02   2.24498264e-03\n",
      "   1.34331048e-01   5.74976392e-02   1.57067344e-01   2.07820758e-02\n",
      "   3.74533189e-03   1.08826458e-02   1.12589663e-02   1.16632646e-02\n",
      "   1.27865374e-02   8.10663402e-03   4.27870778e-03   8.02850258e-03\n",
      "   3.02810408e-03   3.55297588e-02   6.25684438e-03   2.32425686e-02\n",
      "   2.99233217e-02   2.93657184e-03   8.46558157e-03   4.24179202e-03\n",
      "   2.62620524e-02   6.06476367e-02   6.73990743e-03   1.12900734e-02\n",
      "   6.23432221e-03   1.80417839e-02   2.28618402e-02   7.22869718e-03\n",
      "   3.29435617e-03   4.33839299e-03   2.86614466e-02   8.04445893e-03\n",
      "   7.53150834e-03   2.60389894e-01   8.80718976e-02   3.28607410e-02\n",
      "   3.29773175e-03   9.64980945e-03   5.49532175e-02   2.40271073e-02\n",
      "   6.81252871e-03   8.58626422e-03   3.23799066e-02   4.30755224e-03\n",
      "   1.93602871e-02   9.93608832e-02   5.68077378e-02   1.73416063e-02\n",
      "   4.24044937e-01   7.12323003e-03   6.99428841e-03   9.10623651e-03\n",
      "   3.14470269e-02   1.04577402e-02   3.56898233e-02   3.52186337e-03\n",
      "   4.69124271e-03   1.33356890e-02   8.53199419e-03   2.12300732e-03\n",
      "   5.59544452e-02   5.70463343e-03   8.13230313e-03   1.55101903e-02\n",
      "   1.96844083e-03   4.34320234e-02   9.87859257e-03   9.67373792e-03\n",
      "   4.33520833e-03   1.54210785e-02   5.20192320e-03   7.28294603e-04\n",
      "   7.96870701e-03   1.06194410e-02   1.62117463e-02   1.07635036e-02\n",
      "   5.19981142e-03   9.52316355e-03   5.54107316e-03   1.76665802e-02\n",
      "   9.22812056e-03   1.89876056e-03   2.10150774e-03   8.05601943e-03\n",
      "   1.31035326e-02   1.04307704e-01   7.18189031e-03   4.48844209e-03\n",
      "   2.54760198e-02   7.46467430e-03   5.65765286e-03   1.93663165e-02\n",
      "   5.58679597e-03   6.22659130e-03   9.41582024e-02   1.08322185e-02\n",
      "   1.05196629e-02   7.97575992e-03   6.71577780e-03   1.18170958e-02\n",
      "   1.30333798e-02   5.02895936e-03   7.46823149e-03   5.74086513e-03\n",
      "   1.11641921e-02   8.32454674e-03   1.43040847e-02   4.03315574e-02\n",
      "   1.11070322e-02   6.15333300e-03   4.19837376e-03   2.06815149e-03\n",
      "   1.57149192e-02   1.05119096e-02   1.01967957e-02   5.18924231e-03\n",
      "   1.23178829e-02   1.15091112e-02   1.59607865e-02   8.89889989e-03\n",
      "   2.58488283e-02   1.74637651e-03   1.25546791e-02   2.82807518e-02]\n"
     ]
    }
   ],
   "source": [
    "import numpy as np;\n",
    "path='/home/SSD3/maheen-data/temp/vanilla_train_bn_check/test_images/loss_final_val_ind.npy';\n",
    "losses=np.load(path);\n",
    "print losses\n"
   ]
  },
  {
   "cell_type": "code",
   "execution_count": null,
   "metadata": {
    "collapsed": true
   },
   "outputs": [],
   "source": []
  },
  {
   "cell_type": "code",
   "execution_count": 39,
   "metadata": {
    "collapsed": false
   },
   "outputs": [
    {
     "name": "stdout",
     "output_type": "stream",
     "text": [
      "10000\n",
      "0\n",
      "1000\n",
      "2000\n",
      "3000\n",
      "4000\n",
      "5000\n",
      "6000\n",
      "7000\n",
      "8000\n",
      "9000\n",
      "70.6054 199.4994\n",
      "0\n",
      "1000\n",
      "2000\n",
      "3000\n",
      "4000\n",
      "5000\n",
      "6000\n",
      "7000\n",
      "8000\n",
      "9000\n",
      "8.4027019464 14.124425652\n"
     ]
    },
    {
     "data": {
      "text/plain": [
       "True"
      ]
     },
     "execution_count": 39,
     "metadata": {},
     "output_type": "execute_result"
    }
   ],
   "source": [
    "import os;\n",
    "import util;\n",
    "import numpy as np;\n",
    "import cv2;\n",
    "\n",
    "train_pair_file='/home/SSD3/maheen-data/horse_project/data_check/face/pairs.txt';\n",
    "\n",
    "out_file_mean='/home/SSD3/maheen-data/horse_project/data_check/face/mean.png';\n",
    "out_file_std='/home/SSD3/maheen-data/horse_project/data_check/face/std.png';\n",
    "\n",
    "resize_size=(40,40);\n",
    "\n",
    "running_total=np.zeros((40,40,3));\n",
    "im_files=util.readLinesFromFile(train_pair_file);\n",
    "im_files=[line_curr[:line_curr.index(' ')] for line_curr in im_files];\n",
    "# im_files=im_files[:1000];\n",
    "\n",
    "print len(im_files)\n",
    "\n",
    "for idx_file_curr,file_curr in enumerate(im_files):\n",
    "    if idx_file_curr%1000==0:\n",
    "        print idx_file_curr;\n",
    "    im=cv2.imread(file_curr)\n",
    "#     scipy.misc.imread(file_curr);\n",
    "    im=scipy.misc.imresize(im,resize_size);\n",
    "    running_total=running_total+im;\n",
    "\n",
    "running_total=running_total.astype(np.float);\n",
    "mean=running_total/len(im_files);\n",
    "print np.min(mean),np.max(mean);\n",
    "\n",
    "\n",
    "running_total=np.zeros((40,40,3));\n",
    "for idx_file_curr,file_curr in enumerate(im_files):\n",
    "    if idx_file_curr%1000==0:\n",
    "        print idx_file_curr;\n",
    "    im=cv2.imread(file_curr);\n",
    "    im=scipy.misc.imresize(im,resize_size);\n",
    "    std_curr=np.power(mean-im,2)\n",
    "    running_total=running_total+im;\n",
    "\n",
    "running_total=running_total.astype(np.float);\n",
    "std=running_total/len(im_files);\n",
    "std=np.sqrt(std)\n",
    "print np.min(std),np.max(std);\n",
    "\n",
    "# mean = scipy.misc.toimage(a, high=np.max(a), low=np.min(a), mode='I')\n",
    "# scipy.misc.imsave(out_file_mean,scipy.misc.toimage(mean.astype('int32'),high=np.max));\n",
    "# ,high=255,low=0,mode='RGB'\n",
    "# scipy.misc.imsave(out_file_std,std.astype(int));\n",
    "cv2.imwrite(out_file_mean,mean);\n",
    "cv2.imwrite(out_file_std,std);\n",
    "\n",
    "    \n",
    "    "
   ]
  },
  {
   "cell_type": "code",
   "execution_count": 40,
   "metadata": {
    "collapsed": false
   },
   "outputs": [
    {
     "name": "stdout",
     "output_type": "stream",
     "text": [
      "71 199\n",
      "8 14\n"
     ]
    }
   ],
   "source": [
    "# mean_file='/home/laoreja/finetune-deep-landmark/dataset/train/aflw_40_mean.png'\n",
    "# std_file='/home/laoreja/finetune-deep-landmark/dataset/train/aflw_40_std.png'\n",
    "mean_file=out_file_mean;\n",
    "std_file=out_file_std;\n",
    "mean=scipy.misc.imread(mean_file);\n",
    "std=scipy.misc.imread(std_file);\n",
    "print np.min(mean),np.max(mean);\n",
    "print np.min(std),np.max(std);\n",
    "\n"
   ]
  },
  {
   "cell_type": "code",
   "execution_count": 51,
   "metadata": {
    "collapsed": false
   },
   "outputs": [
    {
     "name": "stdout",
     "output_type": "stream",
     "text": [
      "('List of arrays in this file: \\n', [u'confidence', u'data', u'landmark'])\n",
      "(10084, 3, 40, 40)\n",
      "(-13.538461, 21.124998)\n",
      "(0.0, 255.0)\n"
     ]
    }
   ],
   "source": [
    "import numpy as np\n",
    "import h5py\n",
    "import cv2;\n",
    "\n",
    "data_file='/home/SSD3/laoreja-data/maheen_use_only/train/vanilla/aflw_40/aflw_vanilla_train_40_16.h5';\n",
    "# data_file='/home/laoreja/new-deep-landmark/train/vanilla/aflw_40/aflw_vanilla_train_40_16.h5'\n",
    "mean_path='/home/laoreja/finetune-deep-landmark/dataset/train/aflw_40_mean.png'\n",
    "std_path='/home/laoreja/finetune-deep-landmark/dataset/train/aflw_40_std.png'\n",
    "\n",
    "with h5py.File(data_file,'r') as hf:\n",
    "    print('List of arrays in this file: \\n', hf.keys())\n",
    "    data = hf.get('data')\n",
    "    imgs = np.array(data)\n",
    "\n",
    "# a=np_data[0];\n",
    "# print a.shape;\n",
    "print imgs.shape\n",
    "    \n",
    "MEAN_TRAIN_SET=cv2.imread(mean_path).astype('f4');\n",
    "STD_TRAIN_SET=cv2.imread(std_path).astype('f4');\n",
    "#     print('Shape of the array dataset_1: \\n', np_data.shape)\n",
    "\n",
    "\n",
    "# MEAN_TRAIN_SET = cv2.imread('dataset/train/'+mean_std_prefix+'_mean.png').astype('f4')\n",
    "# STD_TRAIN_SET  = cv2.imread('dataset/train/'+mean_std_prefix+'_std.png').astype('f4')\n",
    "MEAN_TRAIN_SET = np.transpose(MEAN_TRAIN_SET, (2, 0, 1))\n",
    "STD_TRAIN_SET = np.transpose(STD_TRAIN_SET, (2, 0, 1))\n",
    "\n",
    "for i in xrange(1):\n",
    "# imgs.shape[0]):\n",
    "    print (np.min(imgs[i]),np.max(imgs[i]))\n",
    "    imgs[i] *= (1.e-6+STD_TRAIN_SET)\n",
    "    imgs[i] += MEAN_TRAIN_SET\n",
    "    print (np.min(imgs[i]),np.max(imgs[i]));\n",
    "#     break\n",
    "\n",
    "#     return imgs\n"
   ]
  }
 ],
 "metadata": {
  "kernelspec": {
   "display_name": "Python 2",
   "language": "python",
   "name": "python2"
  },
  "language_info": {
   "codemirror_mode": {
    "name": "ipython",
    "version": 2
   },
   "file_extension": ".py",
   "mimetype": "text/x-python",
   "name": "python",
   "nbconvert_exporter": "python",
   "pygments_lexer": "ipython2",
   "version": "2.7.6"
  }
 },
 "nbformat": 4,
 "nbformat_minor": 0
}
